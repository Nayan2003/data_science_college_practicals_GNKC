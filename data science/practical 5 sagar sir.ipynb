{
 "cells": [
  {
   "cell_type": "markdown",
   "id": "3fe34a33",
   "metadata": {},
   "source": [
    "# Practical 5\n",
    "### Name : nayan khuje\n"
   ]
  },
  {
   "cell_type": "markdown",
   "id": "e50b8d4d",
   "metadata": {},
   "source": [
    "## Q.1.Use the following in python: "
   ]
  },
  {
   "cell_type": "code",
   "execution_count": 1,
   "id": "520f7fd9",
   "metadata": {},
   "outputs": [],
   "source": [
    "import sympy as sp"
   ]
  },
  {
   "cell_type": "markdown",
   "id": "d2dbb6c4",
   "metadata": {},
   "source": [
    "##### 1) Symbol"
   ]
  },
  {
   "cell_type": "code",
   "execution_count": 2,
   "id": "0bb8e82d",
   "metadata": {},
   "outputs": [
    {
     "data": {
      "text/latex": [
       "$\\displaystyle x$"
      ],
      "text/plain": [
       "x"
      ]
     },
     "execution_count": 2,
     "metadata": {},
     "output_type": "execute_result"
    }
   ],
   "source": [
    "x=sp.Symbol(\"x\")\n",
    "x"
   ]
  },
  {
   "cell_type": "code",
   "execution_count": 18,
   "id": "d13b659a",
   "metadata": {},
   "outputs": [
    {
     "data": {
      "text/latex": [
       "$\\displaystyle y$"
      ],
      "text/plain": [
       "y"
      ]
     },
     "execution_count": 18,
     "metadata": {},
     "output_type": "execute_result"
    }
   ],
   "source": [
    "y = sp.Symbol(\"y\")\n",
    "y"
   ]
  },
  {
   "cell_type": "markdown",
   "id": "990f05a9",
   "metadata": {},
   "source": [
    "##### 2) symbols"
   ]
  },
  {
   "cell_type": "code",
   "execution_count": 3,
   "id": "bfa13851",
   "metadata": {},
   "outputs": [],
   "source": [
    "a,b,c=sp.symbols(\"a,b,c\")\n"
   ]
  },
  {
   "cell_type": "markdown",
   "id": "8e096e7f",
   "metadata": {},
   "source": [
    "##### 3) expand "
   ]
  },
  {
   "cell_type": "code",
   "execution_count": 4,
   "id": "ab912b0c",
   "metadata": {},
   "outputs": [
    {
     "data": {
      "text/latex": [
       "$\\displaystyle a^{6} + 6 a^{5} b + 15 a^{4} b^{2} + 20 a^{3} b^{3} + 15 a^{2} b^{4} + 6 a b^{5} + b^{6}$"
      ],
      "text/plain": [
       "a**6 + 6*a**5*b + 15*a**4*b**2 + 20*a**3*b**3 + 15*a**2*b**4 + 6*a*b**5 + b**6"
      ]
     },
     "execution_count": 4,
     "metadata": {},
     "output_type": "execute_result"
    }
   ],
   "source": [
    "eqtn_1=(a+b)**6\n",
    "sp.expand(eqtn_1)"
   ]
  },
  {
   "cell_type": "markdown",
   "id": "cb094f40",
   "metadata": {},
   "source": [
    "##### 4) factor"
   ]
  },
  {
   "cell_type": "code",
   "execution_count": 5,
   "id": "ba0cdc8c",
   "metadata": {},
   "outputs": [
    {
     "data": {
      "text/latex": [
       "$\\displaystyle \\left(x - 3\\right) \\left(x + 5\\right)$"
      ],
      "text/plain": [
       "(x - 3)*(x + 5)"
      ]
     },
     "execution_count": 5,
     "metadata": {},
     "output_type": "execute_result"
    }
   ],
   "source": [
    "eqtn_2=x**2+2*x-15\n",
    "sp.factor(eqtn_2)"
   ]
  },
  {
   "cell_type": "markdown",
   "id": "2c8ddd01",
   "metadata": {},
   "source": [
    "## Q.2.Take user input for taking polynomial and do the following :"
   ]
  },
  {
   "cell_type": "markdown",
   "id": "85c66ba9",
   "metadata": {},
   "source": [
    "##### 1) Error handling for SympifyError "
   ]
  },
  {
   "cell_type": "code",
   "execution_count": 6,
   "id": "181f9aa6",
   "metadata": {},
   "outputs": [],
   "source": [
    "from sympy.core.sympify import SympifyError"
   ]
  },
  {
   "cell_type": "code",
   "execution_count": 7,
   "id": "960ab791",
   "metadata": {},
   "outputs": [
    {
     "name": "stdout",
     "output_type": "stream",
     "text": [
      "Enter your equation in terms of x :x**2+2*x+45\n",
      "your equation is :\n"
     ]
    },
    {
     "data": {
      "text/latex": [
       "$\\displaystyle x^{2} + 2 x + 45$"
      ],
      "text/plain": [
       "x**2 + 2*x + 45"
      ]
     },
     "execution_count": 7,
     "metadata": {},
     "output_type": "execute_result"
    }
   ],
   "source": [
    "try:\n",
    "    eq1=sp.sympify(input(\"Enter your equation in terms of x :\"))\n",
    "except SympifyError:\n",
    "    print(\"Invalid equation\")\n",
    "print(\"your equation is :\")\n",
    "eq1"
   ]
  },
  {
   "cell_type": "markdown",
   "id": "7ad7ecce",
   "metadata": {},
   "source": [
    "##### 2) factorize"
   ]
  },
  {
   "cell_type": "code",
   "execution_count": 8,
   "id": "1527beb2",
   "metadata": {},
   "outputs": [
    {
     "name": "stdout",
     "output_type": "stream",
     "text": [
      "Enter your equation:x**2+5*x-6\n",
      "factor is :\n"
     ]
    },
    {
     "data": {
      "text/latex": [
       "$\\displaystyle \\left(x - 1\\right) \\left(x + 6\\right)$"
      ],
      "text/plain": [
       "(x - 1)*(x + 6)"
      ]
     },
     "execution_count": 8,
     "metadata": {},
     "output_type": "execute_result"
    }
   ],
   "source": [
    "eq2=sp.sympify(input(\"Enter your equation:\"))\n",
    "print(\"factor is :\")\n",
    "sp.factor(eq2)"
   ]
  },
  {
   "cell_type": "markdown",
   "id": "be841d4b",
   "metadata": {},
   "source": [
    "##### 3) expand"
   ]
  },
  {
   "cell_type": "code",
   "execution_count": 9,
   "id": "d19eadeb",
   "metadata": {},
   "outputs": [
    {
     "name": "stdout",
     "output_type": "stream",
     "text": [
      "Enter your equation:(x-y)**6+3*x*y\n",
      "expansion is :\n"
     ]
    },
    {
     "data": {
      "text/latex": [
       "$\\displaystyle x^{6} - 6 x^{5} y + 15 x^{4} y^{2} - 20 x^{3} y^{3} + 15 x^{2} y^{4} - 6 x y^{5} + 3 x y + y^{6}$"
      ],
      "text/plain": [
       "x**6 - 6*x**5*y + 15*x**4*y**2 - 20*x**3*y**3 + 15*x**2*y**4 - 6*x*y**5 + 3*x*y + y**6"
      ]
     },
     "execution_count": 9,
     "metadata": {},
     "output_type": "execute_result"
    }
   ],
   "source": [
    "eq3=sp.sympify(input(\"Enter your equation:\"))\n",
    "print(\"expansion is :\")\n",
    "sp.expand(eq3)\n"
   ]
  },
  {
   "cell_type": "markdown",
   "id": "8c4ee4e7",
   "metadata": {},
   "source": [
    "##### 4) find roots of polynomial"
   ]
  },
  {
   "cell_type": "code",
   "execution_count": 10,
   "id": "b287d300",
   "metadata": {},
   "outputs": [
    {
     "name": "stdout",
     "output_type": "stream",
     "text": [
      "enter ur polynomial:x**2+8*x-6\n",
      "the roots of given polynomial are \n",
      "{-sqrt(22) - 4: 1, -4 + sqrt(22): 1}\n"
     ]
    }
   ],
   "source": [
    "eq4=sp.sympify(input(\"enter ur polynomial:\"))\n",
    "print(\"the roots of given polynomial are \")\n",
    "print(sp.roots(eq4))"
   ]
  },
  {
   "cell_type": "markdown",
   "id": "423a95ba",
   "metadata": {},
   "source": [
    "## Q.3) Use solve to do the following:"
   ]
  },
  {
   "cell_type": "markdown",
   "id": "3ccc3723",
   "metadata": {},
   "source": [
    "###### 1) find root of polynomial"
   ]
  },
  {
   "cell_type": "code",
   "execution_count": 12,
   "id": "2924195f",
   "metadata": {},
   "outputs": [
    {
     "data": {
      "text/plain": [
       "[-6, 1]"
      ]
     },
     "execution_count": 12,
     "metadata": {},
     "output_type": "execute_result"
    }
   ],
   "source": [
    "sp.solve(eq2)"
   ]
  },
  {
   "cell_type": "markdown",
   "id": "4c167f22",
   "metadata": {},
   "source": [
    "##### 2) solve for second variable "
   ]
  },
  {
   "cell_type": "code",
   "execution_count": 23,
   "id": "4495a401",
   "metadata": {},
   "outputs": [
    {
     "data": {
      "text/plain": [
       "[-x/2]"
      ]
     },
     "execution_count": 23,
     "metadata": {},
     "output_type": "execute_result"
    }
   ],
   "source": [
    "eq_=(x**2)+(2*x*y) # here i considered 1st veriable is 'x' and second variable is 'y'\n",
    "sp.solve(eq_,y)"
   ]
  },
  {
   "cell_type": "markdown",
   "id": "d6a49eeb",
   "metadata": {},
   "source": [
    "##### 3) use dist value True"
   ]
  },
  {
   "cell_type": "code",
   "execution_count": 26,
   "id": "3659f6aa",
   "metadata": {},
   "outputs": [
    {
     "data": {
      "text/plain": [
       "[{x: 0}, {y: -x/2}]"
      ]
     },
     "execution_count": 26,
     "metadata": {},
     "output_type": "execute_result"
    }
   ],
   "source": [
    "sp.solve(eq_,dict=True)"
   ]
  },
  {
   "cell_type": "markdown",
   "id": "97b80422",
   "metadata": {},
   "source": [
    "## Q.4) Use subs to do the following"
   ]
  },
  {
   "cell_type": "markdown",
   "id": "da0f2931",
   "metadata": {},
   "source": [
    "##### 1) subs number for variable"
   ]
  },
  {
   "cell_type": "code",
   "execution_count": 29,
   "id": "cce1de85",
   "metadata": {},
   "outputs": [
    {
     "data": {
      "text/latex": [
       "$\\displaystyle x^{2} + 2 x + 45$"
      ],
      "text/plain": [
       "x**2 + 2*x + 45"
      ]
     },
     "execution_count": 29,
     "metadata": {},
     "output_type": "execute_result"
    }
   ],
   "source": [
    "eq1"
   ]
  },
  {
   "cell_type": "code",
   "execution_count": 30,
   "id": "a603ffc9",
   "metadata": {},
   "outputs": [
    {
     "data": {
      "text/latex": [
       "$\\displaystyle 48$"
      ],
      "text/plain": [
       "48"
      ]
     },
     "execution_count": 30,
     "metadata": {},
     "output_type": "execute_result"
    }
   ],
   "source": [
    "eq1.subs({x:1})"
   ]
  },
  {
   "cell_type": "markdown",
   "id": "3664504b",
   "metadata": {},
   "source": [
    "##### 2) subs numbers for 2 variables"
   ]
  },
  {
   "cell_type": "code",
   "execution_count": 31,
   "id": "606c0691",
   "metadata": {},
   "outputs": [
    {
     "data": {
      "text/latex": [
       "$\\displaystyle x^{2} + 2 x y$"
      ],
      "text/plain": [
       "x**2 + 2*x*y"
      ]
     },
     "execution_count": 31,
     "metadata": {},
     "output_type": "execute_result"
    }
   ],
   "source": [
    "eq_"
   ]
  },
  {
   "cell_type": "code",
   "execution_count": 32,
   "id": "92dc360a",
   "metadata": {},
   "outputs": [
    {
     "data": {
      "text/latex": [
       "$\\displaystyle 16$"
      ],
      "text/plain": [
       "16"
      ]
     },
     "execution_count": 32,
     "metadata": {},
     "output_type": "execute_result"
    }
   ],
   "source": [
    "eq_.subs({x:2,y:3})"
   ]
  },
  {
   "cell_type": "markdown",
   "id": "1027918b",
   "metadata": {},
   "source": [
    "##### 3) subs symbol for symbol "
   ]
  },
  {
   "cell_type": "code",
   "execution_count": 38,
   "id": "f8e7ce1d",
   "metadata": {},
   "outputs": [
    {
     "data": {
      "text/latex": [
       "$\\displaystyle p^{2} + 2 p + 45$"
      ],
      "text/plain": [
       "p**2 + 2*p + 45"
      ]
     },
     "execution_count": 38,
     "metadata": {},
     "output_type": "execute_result"
    }
   ],
   "source": [
    "p=sp.Symbol(\"p\")\n",
    "q=sp.Symbol(\"q\")\n",
    "eq1.subs({x:p})"
   ]
  },
  {
   "cell_type": "markdown",
   "id": "500ba9d5",
   "metadata": {},
   "source": [
    "##### 4) subs expression for variable"
   ]
  },
  {
   "cell_type": "code",
   "execution_count": 39,
   "id": "1e2f9c30",
   "metadata": {},
   "outputs": [
    {
     "data": {
      "text/latex": [
       "$\\displaystyle \\left(p^{2} + 2 p\\right)^{2} + 2 \\left(p^{2} + 2 p\\right) \\left(q^{2} - q\\right)$"
      ],
      "text/plain": [
       "(p**2 + 2*p)**2 + 2*(p**2 + 2*p)*(q**2 - q)"
      ]
     },
     "execution_count": 39,
     "metadata": {},
     "output_type": "execute_result"
    }
   ],
   "source": [
    "eq_.subs({x:2*p+p**2,y:q**2-q})"
   ]
  },
  {
   "cell_type": "code",
   "execution_count": null,
   "id": "adef64d5",
   "metadata": {},
   "outputs": [],
   "source": []
  }
 ],
 "metadata": {
  "kernelspec": {
   "display_name": "Python 3 (ipykernel)",
   "language": "python",
   "name": "python3"
  },
  "language_info": {
   "codemirror_mode": {
    "name": "ipython",
    "version": 3
   },
   "file_extension": ".py",
   "mimetype": "text/x-python",
   "name": "python",
   "nbconvert_exporter": "python",
   "pygments_lexer": "ipython3",
   "version": "3.11.1"
  }
 },
 "nbformat": 4,
 "nbformat_minor": 5
}
