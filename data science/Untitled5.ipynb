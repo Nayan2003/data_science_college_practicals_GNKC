{
 "cells": [
  {
   "cell_type": "code",
   "execution_count": 1,
   "id": "8d1ee181",
   "metadata": {},
   "outputs": [],
   "source": [
    "import sympy as sp"
   ]
  },
  {
   "cell_type": "code",
   "execution_count": 2,
   "id": "5281e773",
   "metadata": {},
   "outputs": [],
   "source": [
    "x=sp.Symbol(\"x\")"
   ]
  },
  {
   "cell_type": "code",
   "execution_count": 3,
   "id": "86a3ec3f",
   "metadata": {},
   "outputs": [],
   "source": [
    "v=(x+3)**2"
   ]
  },
  {
   "cell_type": "code",
   "execution_count": 4,
   "id": "18429843",
   "metadata": {},
   "outputs": [
    {
     "name": "stdout",
     "output_type": "stream",
     "text": [
      "    170 |                                                      /\n",
      "        |                                                     / \n",
      "        |                                                    /  \n",
      "        |                                                   /   \n",
      "        |                                                  /    \n",
      "        |                                                 /     \n",
      "        |                                                /      \n",
      "        |                                               /       \n",
      "        |                                              /        \n",
      "        |                                             /         \n",
      "     85 |--------------------------------------------/----------\n",
      "        |                                          ..           \n",
      "        |                                         /             \n",
      "        |                                       ..              \n",
      "        |\\                                     /                \n",
      "        | ..                                 ..                 \n",
      "        |   ..                             ..                   \n",
      "        |     ..                         ..                     \n",
      "        |       ...                   ...                       \n",
      "        |          ....           ....                          \n",
      "      0 |_______________________________________________________\n",
      "         -10                        0                          10\n"
     ]
    },
    {
     "data": {
      "text/plain": [
       "<sympy.plotting.plot.Plot at 0x1a508398a10>"
      ]
     },
     "execution_count": 4,
     "metadata": {},
     "output_type": "execute_result"
    }
   ],
   "source": [
    "sp.plot(v)"
   ]
  },
  {
   "cell_type": "code",
   "execution_count": null,
   "id": "9e313759",
   "metadata": {},
   "outputs": [],
   "source": []
  }
 ],
 "metadata": {
  "kernelspec": {
   "display_name": "Python 3 (ipykernel)",
   "language": "python",
   "name": "python3"
  },
  "language_info": {
   "codemirror_mode": {
    "name": "ipython",
    "version": 3
   },
   "file_extension": ".py",
   "mimetype": "text/x-python",
   "name": "python",
   "nbconvert_exporter": "python",
   "pygments_lexer": "ipython3",
   "version": "3.11.1"
  }
 },
 "nbformat": 4,
 "nbformat_minor": 5
}
