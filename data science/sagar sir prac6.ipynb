{
 "cells": [
  {
   "cell_type": "code",
   "execution_count": 1,
   "id": "70807964",
   "metadata": {},
   "outputs": [],
   "source": [
    "import sympy as sp"
   ]
  },
  {
   "cell_type": "code",
   "execution_count": 2,
   "id": "b9b7b4d7",
   "metadata": {},
   "outputs": [],
   "source": [
    "x,y,z=sp.symbols(\"x,y,z\")"
   ]
  },
  {
   "cell_type": "markdown",
   "id": "ab2deed5",
   "metadata": {},
   "source": [
    "### Q.1) Take two equation in two variable and solve them simultaneously. Do the same for three equation in three variables. "
   ]
  },
  {
   "cell_type": "code",
   "execution_count": 4,
   "id": "527f6459",
   "metadata": {},
   "outputs": [
    {
     "name": "stdout",
     "output_type": "stream",
     "text": [
      "Enter your 1st equatio0n in terms of 2 veriable which is x and y :x*2+3*y-3\n",
      "Enter your 2nd equation in terms of 2 veriables which is x and y :x*6+4*y\n"
     ]
    },
    {
     "data": {
      "text/plain": [
       "{x: -6/5, y: 9/5}"
      ]
     },
     "execution_count": 4,
     "metadata": {},
     "output_type": "execute_result"
    }
   ],
   "source": [
    "# for 2 veriables\n",
    "eq1=sp.sympify(input(\"Enter your 1st equatio0n in terms of 2 veriable which is x and y :\"))\n",
    "eq2=sp.sympify(input(\"Enter your 2nd equation in terms of 2 veriables which is x and y :\"))\n",
    "sp.solve((eq1,eq2),dist=True)                     "
   ]
  },
  {
   "cell_type": "code",
   "execution_count": 5,
   "id": "f900c74b",
   "metadata": {},
   "outputs": [
    {
     "name": "stdout",
     "output_type": "stream",
     "text": [
      "Enter your 1st equatio0n in terms of 3 veriable which is x,y and z :x+3*y-1\n",
      "Enter your 2nd equation in terms of 3 veriables which is x,y and z :x*35+2*y-z\n",
      "Enter your 3rd equatio0n in terms of 3 veriable which is x,y and z :35*y+2*z\n"
     ]
    },
    {
     "data": {
      "text/plain": [
       "{x: -13/57, y: 70/171, z: -1225/171}"
      ]
     },
     "execution_count": 5,
     "metadata": {},
     "output_type": "execute_result"
    }
   ],
   "source": [
    "# for 3 veriables\n",
    "eq1=sp.sympify(input(\"Enter your 1st equatio0n in terms of 3 veriable which is x,y and z :\"))\n",
    "eq2=sp.sympify(input(\"Enter your 2nd equation in terms of 3 veriables which is x,y and z :\"))\n",
    "eq3=sp.sympify(input(\"Enter your 3rd equatio0n in terms of 3 veriable which is x,y and z :\"))\n",
    "sp.solve((eq1,eq2,eq3),dist=True)"
   ]
  },
  {
   "cell_type": "markdown",
   "id": "67560297",
   "metadata": {},
   "source": [
    "### Q.2) plot the graph of three different equations with following: \n",
    "### title, x label, y label, legend."
   ]
  },
  {
   "cell_type": "code",
   "execution_count": null,
   "id": "deeb1497",
   "metadata": {},
   "outputs": [],
   "source": []
  },
  {
   "cell_type": "code",
   "execution_count": null,
   "id": "f8ef8fe3",
   "metadata": {},
   "outputs": [],
   "source": []
  },
  {
   "cell_type": "code",
   "execution_count": null,
   "id": "e590da64",
   "metadata": {},
   "outputs": [],
   "source": []
  }
 ],
 "metadata": {
  "kernelspec": {
   "display_name": "Python 3 (ipykernel)",
   "language": "python",
   "name": "python3"
  },
  "language_info": {
   "codemirror_mode": {
    "name": "ipython",
    "version": 3
   },
   "file_extension": ".py",
   "mimetype": "text/x-python",
   "name": "python",
   "nbconvert_exporter": "python",
   "pygments_lexer": "ipython3",
   "version": "3.11.1"
  }
 },
 "nbformat": 4,
 "nbformat_minor": 5
}
