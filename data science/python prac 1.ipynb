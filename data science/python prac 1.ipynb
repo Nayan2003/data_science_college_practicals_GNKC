{
 "cells": [
  {
   "cell_type": "markdown",
   "id": "9d04fbd3",
   "metadata": {},
   "source": [
    "# NumPy Practical 1\n"
   ]
  },
  {
   "cell_type": "markdown",
   "id": "8a12c887",
   "metadata": {},
   "source": [
    "#### Roll no 407\n",
    "#### name :- Nayan khuje"
   ]
  },
  {
   "cell_type": "code",
   "execution_count": 2,
   "id": "fbda63cf",
   "metadata": {},
   "outputs": [],
   "source": [
    "import numpy as np"
   ]
  },
  {
   "cell_type": "markdown",
   "id": "decd9453",
   "metadata": {},
   "source": [
    "## Create the 1-dimensional array."
   ]
  },
  {
   "cell_type": "markdown",
   "id": "b0473179",
   "metadata": {},
   "source": [
    "###### a)\tName continent, consist of name of all continents. (Q3 included)"
   ]
  },
  {
   "cell_type": "code",
   "execution_count": 3,
   "id": "02f67271",
   "metadata": {},
   "outputs": [
    {
     "name": "stdout",
     "output_type": "stream",
     "text": [
      "['Asia' 'africa' 'Europe' 'North America' 'South America'\n",
      " 'Austalia/Oceania' 'antarctica']\n",
      "1\n",
      "(7,)\n",
      "<U16\n",
      "64\n"
     ]
    }
   ],
   "source": [
    "Continent=np.array(['Asia','africa','Europe','North America','South America','Austalia/Oceania','antarctica'])\n",
    "print(Continent)\n",
    "print(Continent.ndim)## for dimention\n",
    "print(Continent.shape)#for shape\n",
    "print(Continent.dtype)#datatype\n",
    "print(Continent.itemsize)#ithemsize"
   ]
  },
  {
   "cell_type": "markdown",
   "id": "d2d34d9d",
   "metadata": {},
   "source": [
    "##### b)\tNamed ocean, consists of name of all ocean. (Q3 included)"
   ]
  },
  {
   "cell_type": "code",
   "execution_count": 4,
   "id": "f4a1449e",
   "metadata": {},
   "outputs": [
    {
     "name": "stdout",
     "output_type": "stream",
     "text": [
      "['Pacific Ocean' 'Atlantic Ocean' 'Indian Ocean'\n",
      " 'Antarctic Ocean (Southem Ocean)' 'Arctic Ocean']\n",
      "1\n",
      "(5,)\n",
      "<U31\n",
      "124\n"
     ]
    }
   ],
   "source": [
    "ocean=np.array(['Pacific Ocean','Atlantic Ocean','Indian Ocean','Antarctic Ocean (Southem Ocean)','Arctic Ocean'])\n",
    "print(ocean)\n",
    "print(ocean.ndim)\n",
    "print(ocean.shape)\n",
    "print(ocean.dtype)\n",
    "print(ocean.itemsize)"
   ]
  },
  {
   "cell_type": "markdown",
   "id": "aed856cd",
   "metadata": {},
   "source": [
    "##### c)\tNamed river, consists of seven prominent rivers of world. (Q3 included)"
   ]
  },
  {
   "cell_type": "code",
   "execution_count": 5,
   "id": "866ece60",
   "metadata": {},
   "outputs": [
    {
     "name": "stdout",
     "output_type": "stream",
     "text": [
      "['The Nile (North Africa)' 'The Amazon (South America)'\n",
      " 'The Yangtze (China)' 'The Congo (Central Africa)'\n",
      " 'The Mississippi (North America)' 'The Volga (Russia)'\n",
      " 'The Danube (Central and Eastern Europe)']\n",
      "1\n",
      "(7,)\n",
      "<U39\n",
      "156\n"
     ]
    }
   ],
   "source": [
    "river=np.array(['The Nile (North Africa)','The Amazon (South America)'\n",
    ",'The Yangtze (China)',\n",
    "'The Congo (Central Africa)',\n",
    "'The Mississippi (North America)','The Volga (Russia)',\n",
    "'The Danube (Central and Eastern Europe)'])\n",
    "print(river)\n",
    "print(river.ndim)\n",
    "print(river.shape)\n",
    "print(river.dtype)\n",
    "print(river.itemsize)"
   ]
  },
  {
   "cell_type": "markdown",
   "id": "a96e8422",
   "metadata": {},
   "source": [
    "##### d)\tNamed prime consists of first 10 prime numbers between 100 and 200. (Q3 included)"
   ]
  },
  {
   "cell_type": "code",
   "execution_count": 6,
   "id": "ea978c33",
   "metadata": {},
   "outputs": [
    {
     "name": "stdout",
     "output_type": "stream",
     "text": [
      "[101 103 107 109 113 127 131 137 139 149]\n",
      "1\n",
      "(10,)\n",
      "int32\n",
      "4\n"
     ]
    }
   ],
   "source": [
    "prime=np.array([101,103,107,109,113,127,131,137,139,149])\n",
    "print(prime)\n",
    "print(prime.ndim)\n",
    "print(prime.shape)\n",
    "print(prime.dtype)\n",
    "print(prime.itemsize)"
   ]
  },
  {
   "cell_type": "markdown",
   "id": "628b53b4",
   "metadata": {},
   "source": [
    "##### e)\tNamed planet, consists of name of plant in the universe of earth. (Q3 included)"
   ]
  },
  {
   "cell_type": "code",
   "execution_count": 7,
   "id": "25c56c72",
   "metadata": {},
   "outputs": [
    {
     "name": "stdout",
     "output_type": "stream",
     "text": [
      "['Mercury' 'Venus ' ' Earth' 'Mars ' 'Jupiter ' 'Saturn' 'Uranus Neptune'\n",
      " 'Pluto']\n",
      "1\n",
      "(8,)\n",
      "<U14\n",
      "56\n"
     ]
    }
   ],
   "source": [
    "planet=np.array(['Mercury' , 'Venus ' , ' Earth' , 'Mars ' , 'Jupiter ','Saturn' , 'Uranus '\n",
    "'Neptune' , 'Pluto'])\n",
    "print(planet)\n",
    "print(planet.ndim)\n",
    "print(planet.shape)\n",
    "print(planet.dtype)\n",
    "print(planet.itemsize)"
   ]
  },
  {
   "cell_type": "markdown",
   "id": "cbb480a6",
   "metadata": {},
   "source": [
    "##### f)\tNamed Fibonacci, consists of first 10 Fibonacci number divided by 5. (Q3 included)"
   ]
  },
  {
   "cell_type": "code",
   "execution_count": 8,
   "id": "b174b404",
   "metadata": {},
   "outputs": [
    {
     "name": "stdout",
     "output_type": "stream",
     "text": [
      "[0.  0.2 0.2 0.4 0.6 1.  1.6 2.6 4.2 6.8]\n",
      "1\n",
      "(10,)\n",
      "float64\n",
      "8\n"
     ]
    }
   ],
   "source": [
    "fibonacci_div_5=np.array([0, 1/5, 1/5, 2/5, 3/5, 5/5, 8/5, 13/5, 21/5, 34/5])\n",
    "print(fibonacci_div_5)\n",
    "print(fibonacci_div_5.ndim)\n",
    "print(fibonacci_div_5.shape)\n",
    "print(fibonacci_div_5.dtype)\n",
    "print(fibonacci_div_5.itemsize)"
   ]
  },
  {
   "cell_type": "markdown",
   "id": "7f2363e3",
   "metadata": {},
   "source": [
    "##### g)\tNamed floats, consists of any seven numbers out of which 5 are float numbers and remaining two are integers"
   ]
  },
  {
   "cell_type": "code",
   "execution_count": 9,
   "id": "295e3d23",
   "metadata": {},
   "outputs": [
    {
     "name": "stdout",
     "output_type": "stream",
     "text": [
      "[120.12   42.598  48.46  895.124  45.897   4.      9.   ]\n",
      "1\n",
      "(7,)\n",
      "float64\n",
      "8\n"
     ]
    }
   ],
   "source": [
    "floats=np.array([120.12,42.598,48.46,895.124,45.897,4,9])\n",
    "print(floats)\n",
    "print(floats.ndim)\n",
    "print(floats.shape)\n",
    "print(floats.dtype)\n",
    "print(floats.itemsize)"
   ]
  },
  {
   "cell_type": "markdown",
   "id": "5f3ca4e9",
   "metadata": {},
   "source": [
    "##### h)\tNamed mixed, consists of 2 string values, 2 float numbers and 2 integers. (Q3 included)"
   ]
  },
  {
   "cell_type": "code",
   "execution_count": 10,
   "id": "b3e5b89e",
   "metadata": {},
   "outputs": [
    {
     "name": "stdout",
     "output_type": "stream",
     "text": [
      "['nayan' 'nano' '23.5687' '45.78' '8' '9']\n",
      "1\n",
      "(6,)\n",
      "<U32\n",
      "128\n"
     ]
    }
   ],
   "source": [
    "mixed=np.array(['nayan','nano',23.5687,45.78,8,9])\n",
    "print(mixed)\n",
    "print(mixed.ndim)\n",
    "print(mixed.shape)\n",
    "print(mixed.dtype)\n",
    "print(mixed.itemsize)"
   ]
  },
  {
   "cell_type": "markdown",
   "id": "6cda3cb8",
   "metadata": {},
   "source": [
    "##### i)\tNamed arang, with first value 4, last value less than 100, in the step of 3. (Q3 included)"
   ]
  },
  {
   "cell_type": "code",
   "execution_count": 11,
   "id": "b810e0bd",
   "metadata": {},
   "outputs": [
    {
     "name": "stdout",
     "output_type": "stream",
     "text": [
      "[ 4  7 10 13 16 19 22 25 28 31 34 37 40 43 46 49 52 55 58 61 64 67 70 73\n",
      " 76 79 82 85 88 91 94 97]\n",
      "1\n",
      "(32,)\n",
      "int32\n",
      "4\n"
     ]
    }
   ],
   "source": [
    "aranging=np.arange(4,100,3)\n",
    "print(aranging)\n",
    "print(aranging.ndim)\n",
    "print(aranging.shape)\n",
    "print(aranging.dtype)\n",
    "print(aranging.itemsize)"
   ]
  },
  {
   "cell_type": "markdown",
   "id": "2acfba6c",
   "metadata": {},
   "source": [
    "## Q2. Create 2 – dimensional array for the following and print them: (Q3 included)"
   ]
  },
  {
   "cell_type": "markdown",
   "id": "fb955a91",
   "metadata": {},
   "source": [
    "##### a)\tNamed seven, with two rows with first row consists of seven sisters of India and second row consists of their capitals. (Q3 included)"
   ]
  },
  {
   "cell_type": "code",
   "execution_count": 12,
   "id": "262fd35b",
   "metadata": {
    "scrolled": true
   },
   "outputs": [
    {
     "name": "stdout",
     "output_type": "stream",
     "text": [
      "[['Arunachal Pradesh' 'Assam' 'Nagaland' 'Manipur' 'Meghalaya' 'Tripura'\n",
      "  'Mizoram']\n",
      " ['Itanagar' 'Dispur' 'Kohima' 'Imphal' 'Shilong' 'Agartala' 'Aizawl']]\n",
      "2\n",
      "(2, 7)\n",
      "<U17\n",
      "68\n"
     ]
    }
   ],
   "source": [
    "seven=np.array([['Arunachal Pradesh','Assam','Nagaland','Manipur','Meghalaya','Tripura','Mizoram'],['Itanagar','Dispur','Kohima','Imphal','Shilong','Agartala','Aizawl']])\n",
    "print(seven)\n",
    "print(seven.ndim)\n",
    "print(seven.shape)\n",
    "print(seven.dtype)\n",
    "print(seven.itemsize)"
   ]
  },
  {
   "cell_type": "markdown",
   "id": "c412363c",
   "metadata": {},
   "source": [
    "##### b)\tNamed null, with two rows and three columns with all entries zero. (Q3 included)"
   ]
  },
  {
   "cell_type": "code",
   "execution_count": 13,
   "id": "16475366",
   "metadata": {},
   "outputs": [
    {
     "name": "stdout",
     "output_type": "stream",
     "text": [
      "[[0 0 0]\n",
      " [0 0 0]]\n",
      "2\n",
      "(2, 3)\n",
      "int32\n",
      "4\n"
     ]
    }
   ],
   "source": [
    "null=np.array([[0,0,0],[0,0,0]])\n",
    "print(null)\n",
    "print(null.ndim)\n",
    "print(null.shape)\n",
    "print(null.dtype)\n",
    "print(null.itemsize)"
   ]
  },
  {
   "cell_type": "code",
   "execution_count": 14,
   "id": "3609a0d7",
   "metadata": {},
   "outputs": [
    {
     "name": "stdout",
     "output_type": "stream",
     "text": [
      "[[0. 0. 0.]\n",
      " [0. 0. 0.]]\n",
      "2\n",
      "(2, 3)\n",
      "float64\n",
      "8\n"
     ]
    }
   ],
   "source": [
    "null2=np.zeros([2,3])\n",
    "print(null2)\n",
    "print(null2.ndim)\n",
    "print(null2.shape)\n",
    "print(null2.dtype)\n",
    "print(null2.itemsize)"
   ]
  },
  {
   "cell_type": "markdown",
   "id": "2bc405f5",
   "metadata": {},
   "source": [
    "#####  c)\tNamed allones, with 4 rows and 5 columns with all entries 1. (Q3 included)"
   ]
  },
  {
   "cell_type": "code",
   "execution_count": 15,
   "id": "2fcc866b",
   "metadata": {},
   "outputs": [
    {
     "name": "stdout",
     "output_type": "stream",
     "text": [
      "[[1. 1. 1. 1. 1.]\n",
      " [1. 1. 1. 1. 1.]\n",
      " [1. 1. 1. 1. 1.]\n",
      " [1. 1. 1. 1. 1.]]\n",
      "2\n",
      "(4, 5)\n",
      "float64\n",
      "8\n"
     ]
    }
   ],
   "source": [
    "allones=np.ones([4,5])\n",
    "print(allones)\n",
    "print(allones.ndim)\n",
    "print(allones.shape)\n",
    "print(allones.dtype)\n",
    "print(allones.itemsize)"
   ]
  },
  {
   "cell_type": "markdown",
   "id": "1eda9db6",
   "metadata": {},
   "source": [
    "##### d)\tNamed pi, with 3 rows and 3 columns with all entries approximate value of pi up to 5 decimal places. (Q3 included)"
   ]
  },
  {
   "cell_type": "code",
   "execution_count": 16,
   "id": "023ad625",
   "metadata": {},
   "outputs": [
    {
     "name": "stdout",
     "output_type": "stream",
     "text": [
      "[[3.14159 3.14159 3.14159]\n",
      " [3.14159 3.14159 3.14159]\n",
      " [3.14159 3.14159 3.14159]]\n",
      "2\n",
      "(3, 3)\n",
      "float64\n",
      "8\n"
     ]
    }
   ],
   "source": [
    "pi=np.array([[3.14159,3.14159,3.14159],[3.14159,3.14159,3.14159],[3.14159,3.14159,3.14159]])\n",
    "print(pi)\n",
    "print(pi.ndim)\n",
    "print(pi.shape)\n",
    "print(pi.dtype)\n",
    "print(pi.itemsize)"
   ]
  },
  {
   "cell_type": "code",
   "execution_count": 22,
   "id": "30769f81",
   "metadata": {},
   "outputs": [
    {
     "data": {
      "text/plain": [
       "array([[3.14159, 3.14159, 3.14159],\n",
       "       [3.14159, 3.14159, 3.14159],\n",
       "       [3.14159, 3.14159, 3.14159]])"
      ]
     },
     "execution_count": 22,
     "metadata": {},
     "output_type": "execute_result"
    }
   ],
   "source": [
    "p2=np.full((3,3),3.14159)\n",
    "p2"
   ]
  },
  {
   "cell_type": "code",
   "execution_count": null,
   "id": "5acc9ca4",
   "metadata": {},
   "outputs": [],
   "source": []
  },
  {
   "cell_type": "markdown",
   "id": "8385dee7",
   "metadata": {},
   "source": [
    "##### e)\tNamed data with 2 rows, where one row is name of 5 person and second name is its age. (Q3 included)"
   ]
  },
  {
   "cell_type": "code",
   "execution_count": 17,
   "id": "db5d5a0e",
   "metadata": {},
   "outputs": [
    {
     "name": "stdout",
     "output_type": "stream",
     "text": [
      "[['nayan' 'nano' 'prachiti' 'mansi' 'shalu']\n",
      " ['20' '58' '69' '45' '100']]\n",
      "2\n",
      "(2, 5)\n",
      "<U11\n",
      "44\n"
     ]
    }
   ],
   "source": [
    "data=np.array([['nayan','nano','prachiti','mansi','shalu'],[20,58,69,45,100]])\n",
    "print(data)\n",
    "print(data.ndim)\n",
    "print(data.shape)\n",
    "print(data.dtype)\n",
    "print(data.itemsize)"
   ]
  },
  {
   "cell_type": "markdown",
   "id": "785bbdd6",
   "metadata": {},
   "source": [
    "## Q3. Display the dimension, shape, size, data type and item size of all the ndarray created in 1 and 2,"
   ]
  },
  {
   "cell_type": "markdown",
   "id": "9a5f1401",
   "metadata": {},
   "source": [
    "## Q4. Display first, second, last and second last elements of all the array created in above examples."
   ]
  },
  {
   "cell_type": "markdown",
   "id": "cf377ada",
   "metadata": {},
   "source": [
    "###### for Q1\n"
   ]
  },
  {
   "cell_type": "code",
   "execution_count": 18,
   "id": "345f566d",
   "metadata": {},
   "outputs": [
    {
     "name": "stdout",
     "output_type": "stream",
     "text": [
      "Asia\n",
      "africa\n",
      "antarctica\n",
      "Austalia/Oceania\n"
     ]
    }
   ],
   "source": [
    "#for a\n",
    "print(Continent[0]); #first\n",
    "print(Continent[1]) #second\n",
    "print(Continent[-1]) #last\n",
    "print(Continent[-2]) #second last"
   ]
  },
  {
   "cell_type": "code",
   "execution_count": 18,
   "id": "25670f21",
   "metadata": {},
   "outputs": [
    {
     "name": "stdout",
     "output_type": "stream",
     "text": [
      "Pacific Ocean\n",
      "Atlantic Ocean\n",
      "Arctic Ocean\n",
      "Antarctic Ocean (Southem Ocean)\n"
     ]
    }
   ],
   "source": [
    "#for b\n",
    "print(ocean[0]) #first\n",
    "print(ocean[1]) #second\n",
    "print(ocean[-1]) #last\n",
    "print(ocean[-2]) #second last"
   ]
  },
  {
   "cell_type": "code",
   "execution_count": 19,
   "id": "4ebc0f34",
   "metadata": {},
   "outputs": [
    {
     "name": "stdout",
     "output_type": "stream",
     "text": [
      "The Nile (North Africa)\n",
      "The Amazon (South America)\n",
      "The Danube (Central and Eastern Europe)\n",
      "The Volga (Russia)\n"
     ]
    }
   ],
   "source": [
    "#for c\n",
    "print(river[0]) #first\n",
    "print(river[1]) #second\n",
    "print(river[-1]) #last\n",
    "print(river[-2]) #second last"
   ]
  },
  {
   "cell_type": "code",
   "execution_count": 20,
   "id": "3baa3534",
   "metadata": {},
   "outputs": [
    {
     "name": "stdout",
     "output_type": "stream",
     "text": [
      "101\n",
      "103\n",
      "149\n",
      "139\n"
     ]
    }
   ],
   "source": [
    "#for d\n",
    "print(prime[0]) #first\n",
    "print(prime[1]) #second\n",
    "print(prime[-1]) #last\n",
    "print(prime[-2]) #second last"
   ]
  },
  {
   "cell_type": "code",
   "execution_count": 21,
   "id": "16ef32da",
   "metadata": {},
   "outputs": [
    {
     "name": "stdout",
     "output_type": "stream",
     "text": [
      "Mercury\n",
      "Venus \n",
      "Pluto\n",
      "Uranus Neptune\n"
     ]
    }
   ],
   "source": [
    "#for e\n",
    "print(planet[0]) #first\n",
    "print(planet[1]) #second\n",
    "print(planet[-1]) #last\n",
    "print(planet[-2]) #second last"
   ]
  },
  {
   "cell_type": "code",
   "execution_count": 22,
   "id": "af6dca8c",
   "metadata": {},
   "outputs": [
    {
     "name": "stdout",
     "output_type": "stream",
     "text": [
      "0.0\n",
      "0.2\n",
      "6.8\n",
      "4.2\n"
     ]
    }
   ],
   "source": [
    "#for f\n",
    "print(fibonacci_div_5[0]) #first\n",
    "print(fibonacci_div_5[1]) #second\n",
    "print(fibonacci_div_5[-1]) #last\n",
    "print(fibonacci_div_5[-2]) #second last"
   ]
  },
  {
   "cell_type": "code",
   "execution_count": 23,
   "id": "d6e297f1",
   "metadata": {},
   "outputs": [
    {
     "name": "stdout",
     "output_type": "stream",
     "text": [
      "120.12\n",
      "42.598\n",
      "9.0\n",
      "4.0\n"
     ]
    }
   ],
   "source": [
    "#for g\n",
    "print(floats[0]) #first\n",
    "print(floats[1]) #second\n",
    "print(floats[-1]) #last\n",
    "print(floats[-2]) #second last"
   ]
  },
  {
   "cell_type": "code",
   "execution_count": 24,
   "id": "0bf2cef2",
   "metadata": {},
   "outputs": [
    {
     "name": "stdout",
     "output_type": "stream",
     "text": [
      "nayan\n",
      "nano\n",
      "9\n",
      "8\n"
     ]
    }
   ],
   "source": [
    "#for h\n",
    "print(mixed[0]) #first\n",
    "print(mixed[1]) #second\n",
    "print(mixed[-1]) #last\n",
    "print(mixed[-2]) #second last"
   ]
  },
  {
   "cell_type": "code",
   "execution_count": 25,
   "id": "586cf6ee",
   "metadata": {},
   "outputs": [
    {
     "name": "stdout",
     "output_type": "stream",
     "text": [
      "4\n",
      "7\n",
      "97\n",
      "94\n"
     ]
    }
   ],
   "source": [
    "#for i\n",
    "print(aranging[0]) #first\n",
    "print(aranging[1]) #second\n",
    "print(aranging[-1]) #last\n",
    "print(aranging[-2]) #second last"
   ]
  },
  {
   "cell_type": "markdown",
   "id": "6da65672",
   "metadata": {},
   "source": [
    "## Q5. Display all the elements from 2 to second last in all the array created in question 1,"
   ]
  },
  {
   "cell_type": "code",
   "execution_count": 20,
   "id": "40707a62",
   "metadata": {},
   "outputs": [
    {
     "name": "stdout",
     "output_type": "stream",
     "text": [
      "['africa' 'Europe' 'North America' 'South America' 'Austalia/Oceania']\n"
     ]
    }
   ],
   "source": [
    "#for a\n",
    "print(Continent[1:-1]) "
   ]
  },
  {
   "cell_type": "code",
   "execution_count": 27,
   "id": "277e29de",
   "metadata": {},
   "outputs": [
    {
     "name": "stdout",
     "output_type": "stream",
     "text": [
      "['Atlantic Ocean' 'Indian Ocean' 'Antarctic Ocean (Southem Ocean)']\n"
     ]
    }
   ],
   "source": [
    "#for b\n",
    "print(ocean[1:-1]) "
   ]
  },
  {
   "cell_type": "code",
   "execution_count": 28,
   "id": "0621caf6",
   "metadata": {},
   "outputs": [
    {
     "name": "stdout",
     "output_type": "stream",
     "text": [
      "['The Amazon (South America)' 'The Yangtze (China)'\n",
      " 'The Congo (Central Africa)' 'The Mississippi (North America)'\n",
      " 'The Volga (Russia)']\n"
     ]
    }
   ],
   "source": [
    "#for c\n",
    "print(river[1:-1]) "
   ]
  },
  {
   "cell_type": "code",
   "execution_count": 29,
   "id": "1d279e76",
   "metadata": {},
   "outputs": [
    {
     "name": "stdout",
     "output_type": "stream",
     "text": [
      "[103 107 109 113 127 131 137 139]\n"
     ]
    }
   ],
   "source": [
    "#for d\n",
    "print(prime[1:-1]) "
   ]
  },
  {
   "cell_type": "code",
   "execution_count": 30,
   "id": "38ec9bb9",
   "metadata": {},
   "outputs": [
    {
     "name": "stdout",
     "output_type": "stream",
     "text": [
      "['Venus ' ' Earth' 'Mars ' 'Jupiter ' 'Saturn' 'Uranus Neptune']\n"
     ]
    }
   ],
   "source": [
    "#for e\n",
    "print(planet[1:-1]) "
   ]
  },
  {
   "cell_type": "code",
   "execution_count": 31,
   "id": "fb22adc9",
   "metadata": {},
   "outputs": [
    {
     "name": "stdout",
     "output_type": "stream",
     "text": [
      "[0.2 0.2 0.4 0.6 1.  1.6 2.6 4.2]\n"
     ]
    }
   ],
   "source": [
    "#for f\n",
    "print(fibonacci_div_5[1:-1]) "
   ]
  },
  {
   "cell_type": "code",
   "execution_count": 32,
   "id": "06c227ae",
   "metadata": {},
   "outputs": [
    {
     "name": "stdout",
     "output_type": "stream",
     "text": [
      "[ 42.598  48.46  895.124  45.897   4.   ]\n"
     ]
    }
   ],
   "source": [
    "#for g\n",
    "print(floats[1:-1]) "
   ]
  },
  {
   "cell_type": "code",
   "execution_count": 33,
   "id": "02236fe4",
   "metadata": {},
   "outputs": [
    {
     "name": "stdout",
     "output_type": "stream",
     "text": [
      "['nano' '23.5687' '45.78' '8']\n"
     ]
    }
   ],
   "source": [
    "#for h\n",
    "print(mixed[1:-1]) "
   ]
  },
  {
   "cell_type": "code",
   "execution_count": 34,
   "id": "a57859c7",
   "metadata": {},
   "outputs": [
    {
     "name": "stdout",
     "output_type": "stream",
     "text": [
      "[ 7 10 13 16 19 22 25 28 31 34 37 40 43 46 49 52 55 58 61 64 67 70 73 76\n",
      " 79 82 85 88 91 94]\n"
     ]
    }
   ],
   "source": [
    "#for i\n",
    "print(aranging[1:-1])"
   ]
  },
  {
   "cell_type": "markdown",
   "id": "d41297b8",
   "metadata": {},
   "source": [
    "## Q6. Display the elements from second  row, third column from the examples created in question 2."
   ]
  },
  {
   "cell_type": "code",
   "execution_count": 35,
   "id": "9e396520",
   "metadata": {},
   "outputs": [
    {
     "name": "stdout",
     "output_type": "stream",
     "text": [
      "Kohima\n"
     ]
    }
   ],
   "source": [
    "#for a\n",
    "print(seven[1,2])"
   ]
  },
  {
   "cell_type": "code",
   "execution_count": 36,
   "id": "45e0a1bb",
   "metadata": {},
   "outputs": [
    {
     "name": "stdout",
     "output_type": "stream",
     "text": [
      "0\n"
     ]
    }
   ],
   "source": [
    "#for b\n",
    "print(null[1,2])"
   ]
  },
  {
   "cell_type": "code",
   "execution_count": 37,
   "id": "507b1bda",
   "metadata": {},
   "outputs": [
    {
     "name": "stdout",
     "output_type": "stream",
     "text": [
      "1.0\n"
     ]
    }
   ],
   "source": [
    "#for c\n",
    "print(allones[1,2])"
   ]
  },
  {
   "cell_type": "code",
   "execution_count": 38,
   "id": "342d174a",
   "metadata": {},
   "outputs": [
    {
     "name": "stdout",
     "output_type": "stream",
     "text": [
      "3.14159\n"
     ]
    }
   ],
   "source": [
    "#for d\n",
    "print(pi[1,2])"
   ]
  },
  {
   "cell_type": "code",
   "execution_count": 39,
   "id": "de0d6646",
   "metadata": {
    "scrolled": true
   },
   "outputs": [
    {
     "name": "stdout",
     "output_type": "stream",
     "text": [
      "69\n"
     ]
    }
   ],
   "source": [
    "#for e\n",
    "print(data[1,2])"
   ]
  },
  {
   "cell_type": "code",
   "execution_count": null,
   "id": "9f3cff1d",
   "metadata": {},
   "outputs": [],
   "source": []
  },
  {
   "cell_type": "code",
   "execution_count": null,
   "id": "2657bf4c",
   "metadata": {},
   "outputs": [],
   "source": []
  }
 ],
 "metadata": {
  "kernelspec": {
   "display_name": "Python 3 (ipykernel)",
   "language": "python",
   "name": "python3"
  },
  "language_info": {
   "codemirror_mode": {
    "name": "ipython",
    "version": 3
   },
   "file_extension": ".py",
   "mimetype": "text/x-python",
   "name": "python",
   "nbconvert_exporter": "python",
   "pygments_lexer": "ipython3",
   "version": "3.11.1"
  }
 },
 "nbformat": 4,
 "nbformat_minor": 5
}
