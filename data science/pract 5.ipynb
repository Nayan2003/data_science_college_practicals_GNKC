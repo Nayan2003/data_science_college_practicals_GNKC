{
 "cells": [
  {
   "cell_type": "markdown",
   "id": "84e9d13e",
   "metadata": {},
   "source": [
    "## Practical 5 \n",
    "### Name = Nayan Naresh khuje\n",
    "### Roll No. = 407"
   ]
  },
  {
   "cell_type": "code",
   "execution_count": 1,
   "id": "46f07d21",
   "metadata": {},
   "outputs": [],
   "source": [
    "import pandas as pd"
   ]
  },
  {
   "cell_type": "markdown",
   "id": "e30e635b",
   "metadata": {},
   "source": [
    "#### 1. Create one dimensional list containing name of nine planet of our Galaxy. Create a dataframe using this list."
   ]
  },
  {
   "cell_type": "code",
   "execution_count": 4,
   "id": "2c18e835",
   "metadata": {},
   "outputs": [
    {
     "name": "stdout",
     "output_type": "stream",
     "text": [
      "         0\n",
      "0  Mercury\n",
      "1    venus\n",
      "2    Earth\n",
      "3     Mars\n",
      "4  jupiter\n",
      "5   Satern\n",
      "6   Uranus\n",
      "7  Neptune\n",
      "8    Pluto\n"
     ]
    }
   ],
   "source": [
    "planet=['Mercury','venus','Earth','Mars','jupiter','Satern','Uranus','Neptune','Pluto']\n",
    "planet1=pd.DataFrame(planet)\n",
    "print(planet1)"
   ]
  },
  {
   "cell_type": "markdown",
   "id": "966a6878",
   "metadata": {},
   "source": [
    "#### 2. Create a list 2-dimensional list containing name of month and number of days in that month. For example [‘January’, 31 ],[‘February’, 28] and so on. Create a DataFrame using that.\n"
   ]
  },
  {
   "cell_type": "code",
   "execution_count": 13,
   "id": "b371edac",
   "metadata": {},
   "outputs": [
    {
     "name": "stdout",
     "output_type": "stream",
     "text": [
      "         0   1\n",
      "0      jan  31\n",
      "1      feb  28\n",
      "2    march  31\n",
      "3    April  30\n",
      "4      May  31\n",
      "5     june  30\n",
      "6     july  30\n",
      "7   August  31\n",
      "8     Sept  30\n",
      "9      Oct  31\n",
      "10     nov  30\n",
      "11     Dec  31\n"
     ]
    }
   ],
   "source": [
    "cald=[['jan',31],['feb',28],['march',31],['April',30],['May',31],['june',30],\n",
    "      ['july',30],['August',31],['Sept',30],['Oct',31],['nov',30],['Dec',31]]\n",
    "cald1=pd.DataFrame(cald)\n",
    "print(cald1)\n"
   ]
  },
  {
   "cell_type": "markdown",
   "id": "4e47e8f3",
   "metadata": {},
   "source": [
    "#### 3. Create a series with index as any five state of India and values as its capital. Create a dataframe using this series."
   ]
  },
  {
   "cell_type": "code",
   "execution_count": 18,
   "id": "7b562db0",
   "metadata": {},
   "outputs": [
    {
     "name": "stdout",
     "output_type": "stream",
     "text": [
      "                      0\n",
      "Mumbai       Maharastra\n",
      "panaji              Goa\n",
      "Gandhinagar     Gujarat\n",
      "Bangalore     Karnataka\n",
      "chanigarh       Haryana\n"
     ]
    }
   ],
   "source": [
    "state=pd.Series(['Maharastra','Goa','Gujarat','Karnataka','Haryana'],\n",
    "                index=['Mumbai','panaji','Gandhinagar','Bangalore','chanigarh'])\n",
    "state1=pd.DataFrame(state)\n",
    "print(state1)"
   ]
  },
  {
   "cell_type": "markdown",
   "id": "13713799",
   "metadata": {},
   "source": [
    "#### 4. Create a dataframe which stores name of any five students and their marks in five subjects Hindi, English, Soc Sci, Sci and Maths."
   ]
  },
  {
   "cell_type": "code",
   "execution_count": 22,
   "id": "e471149f",
   "metadata": {},
   "outputs": [
    {
     "name": "stdout",
     "output_type": "stream",
     "text": [
      "          Hindi  English  Soc Sci  Science  Maths\n",
      "Nayan        83       47       79       83     95\n",
      "Shalu        75       70       90       73     98\n",
      "Shrutika     68       80       90       63     80\n",
      "Anjali       90       80       95       94     98\n",
      "Sahil        99       99       99       99     99\n"
     ]
    }
   ],
   "source": [
    "nayan=[83,47,79,83,95]\n",
    "shalu=[75,70,90,73,98]\n",
    "shrutika=[68,80,90,63,80]\n",
    "anjali=[90,80,95,94,98]\n",
    "sahil=[99,99,99,99,99]\n",
    "marksheet=pd.DataFrame([nayan,shalu,shrutika,anjali,sahil],\n",
    "                       index=['Nayan','Shalu','Shrutika','Anjali','Sahil'],\n",
    "                       columns=['Hindi','English','Soc Sci','Science','Maths'])\n",
    "print(marksheet)"
   ]
  },
  {
   "cell_type": "markdown",
   "id": "7042b265",
   "metadata": {},
   "source": [
    "#### 5. Create a dictionary with keys as any five neighboring countries of India and values as their capitals. Create a dataframe using that"
   ]
  },
  {
   "cell_type": "code",
   "execution_count": 29,
   "id": "8ff13149",
   "metadata": {},
   "outputs": [
    {
     "name": "stdout",
     "output_type": "stream",
     "text": [
      "     Contries                   Capitals\n",
      "0  Bangladesh                      Dhaka\n",
      "1       Nepal                  Kathmandu\n",
      "2      Bhutan                    Thimphu\n",
      "3  Shri lanka  Sri Jayawardenepura Kotte\n",
      "4       China                    Beijing\n"
     ]
    }
   ],
   "source": [
    "contrie={'Contries':['Bangladesh','Nepal','Bhutan','Shri lanka','China'],\n",
    "        'Capitals':['Dhaka','Kathmandu','Thimphu','Sri Jayawardenepura Kotte','Beijing']}\n",
    "print(pd.DataFrame(contrie))"
   ]
  },
  {
   "cell_type": "code",
   "execution_count": null,
   "id": "ba229aca",
   "metadata": {},
   "outputs": [],
   "source": []
  }
 ],
 "metadata": {
  "kernelspec": {
   "display_name": "Python 3 (ipykernel)",
   "language": "python",
   "name": "python3"
  },
  "language_info": {
   "codemirror_mode": {
    "name": "ipython",
    "version": 3
   },
   "file_extension": ".py",
   "mimetype": "text/x-python",
   "name": "python",
   "nbconvert_exporter": "python",
   "pygments_lexer": "ipython3",
   "version": "3.11.1"
  }
 },
 "nbformat": 4,
 "nbformat_minor": 5
}
