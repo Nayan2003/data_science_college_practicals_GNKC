{
 "cells": [
  {
   "cell_type": "code",
   "execution_count": 3,
   "id": "cb93f471",
   "metadata": {},
   "outputs": [],
   "source": [
    "import pandas as pd"
   ]
  },
  {
   "cell_type": "code",
   "execution_count": 4,
   "id": "2affc7cb",
   "metadata": {},
   "outputs": [
    {
     "data": {
      "text/html": [
       "<div>\n",
       "<style scoped>\n",
       "    .dataframe tbody tr th:only-of-type {\n",
       "        vertical-align: middle;\n",
       "    }\n",
       "\n",
       "    .dataframe tbody tr th {\n",
       "        vertical-align: top;\n",
       "    }\n",
       "\n",
       "    .dataframe thead th {\n",
       "        text-align: right;\n",
       "    }\n",
       "</style>\n",
       "<table border=\"1\" class=\"dataframe\">\n",
       "  <thead>\n",
       "    <tr style=\"text-align: right;\">\n",
       "      <th></th>\n",
       "      <th>ename</th>\n",
       "      <th>edpt</th>\n",
       "      <th>age</th>\n",
       "      <th>basicsal</th>\n",
       "    </tr>\n",
       "  </thead>\n",
       "  <tbody>\n",
       "    <tr>\n",
       "      <th>0</th>\n",
       "      <td>nayan</td>\n",
       "      <td>programming</td>\n",
       "      <td>21</td>\n",
       "      <td>100000</td>\n",
       "    </tr>\n",
       "    <tr>\n",
       "      <th>1</th>\n",
       "      <td>sahil</td>\n",
       "      <td>hr</td>\n",
       "      <td>50</td>\n",
       "      <td>200000</td>\n",
       "    </tr>\n",
       "    <tr>\n",
       "      <th>2</th>\n",
       "      <td>afrin</td>\n",
       "      <td>hr</td>\n",
       "      <td>50</td>\n",
       "      <td>120000</td>\n",
       "    </tr>\n",
       "    <tr>\n",
       "      <th>3</th>\n",
       "      <td>arpit</td>\n",
       "      <td>programming</td>\n",
       "      <td>20</td>\n",
       "      <td>540000</td>\n",
       "    </tr>\n",
       "    <tr>\n",
       "      <th>4</th>\n",
       "      <td>anjali</td>\n",
       "      <td>fin</td>\n",
       "      <td>20</td>\n",
       "      <td>641000</td>\n",
       "    </tr>\n",
       "  </tbody>\n",
       "</table>\n",
       "</div>"
      ],
      "text/plain": [
       "    ename         edpt  age  basicsal\n",
       "0   nayan  programming   21    100000\n",
       "1   sahil           hr   50    200000\n",
       "2   afrin           hr   50    120000\n",
       "3   arpit  programming   20    540000\n",
       "4  anjali          fin   20    641000"
      ]
     },
     "execution_count": 4,
     "metadata": {},
     "output_type": "execute_result"
    }
   ],
   "source": [
    "aname=['nayan','sahil','afrin','arpit','anjali']\n",
    "edpt=['programming','hr','hr','programming','fin']\n",
    "age=[21,50,50,20,20]\n",
    "basicsal=[100000,200000,120000,540000,641000]\n",
    "comp={'ename':name,'edpt':edpt,'age':age,'basicsal':basicsal}\n",
    "df=pd.DataFrame(comp)\n",
    "df\n"
   ]
  },
  {
   "cell_type": "code",
   "execution_count": 6,
   "id": "818ed49d",
   "metadata": {},
   "outputs": [
    {
     "data": {
      "text/html": [
       "<div>\n",
       "<style scoped>\n",
       "    .dataframe tbody tr th:only-of-type {\n",
       "        vertical-align: middle;\n",
       "    }\n",
       "\n",
       "    .dataframe tbody tr th {\n",
       "        vertical-align: top;\n",
       "    }\n",
       "\n",
       "    .dataframe thead th {\n",
       "        text-align: right;\n",
       "    }\n",
       "</style>\n",
       "<table border=\"1\" class=\"dataframe\">\n",
       "  <thead>\n",
       "    <tr style=\"text-align: right;\">\n",
       "      <th></th>\n",
       "      <th>ename</th>\n",
       "      <th>edpt</th>\n",
       "      <th>age</th>\n",
       "      <th>basicsal</th>\n",
       "      <th>hra</th>\n",
       "    </tr>\n",
       "  </thead>\n",
       "  <tbody>\n",
       "    <tr>\n",
       "      <th>0</th>\n",
       "      <td>nayan</td>\n",
       "      <td>programming</td>\n",
       "      <td>21</td>\n",
       "      <td>100000</td>\n",
       "      <td>2000.0</td>\n",
       "    </tr>\n",
       "    <tr>\n",
       "      <th>1</th>\n",
       "      <td>sahil</td>\n",
       "      <td>hr</td>\n",
       "      <td>50</td>\n",
       "      <td>200000</td>\n",
       "      <td>4000.0</td>\n",
       "    </tr>\n",
       "    <tr>\n",
       "      <th>2</th>\n",
       "      <td>afrin</td>\n",
       "      <td>hr</td>\n",
       "      <td>50</td>\n",
       "      <td>120000</td>\n",
       "      <td>2400.0</td>\n",
       "    </tr>\n",
       "    <tr>\n",
       "      <th>3</th>\n",
       "      <td>arpit</td>\n",
       "      <td>programming</td>\n",
       "      <td>20</td>\n",
       "      <td>540000</td>\n",
       "      <td>10800.0</td>\n",
       "    </tr>\n",
       "    <tr>\n",
       "      <th>4</th>\n",
       "      <td>anjali</td>\n",
       "      <td>fin</td>\n",
       "      <td>20</td>\n",
       "      <td>641000</td>\n",
       "      <td>12820.0</td>\n",
       "    </tr>\n",
       "  </tbody>\n",
       "</table>\n",
       "</div>"
      ],
      "text/plain": [
       "    ename         edpt  age  basicsal      hra\n",
       "0   nayan  programming   21    100000   2000.0\n",
       "1   sahil           hr   50    200000   4000.0\n",
       "2   afrin           hr   50    120000   2400.0\n",
       "3   arpit  programming   20    540000  10800.0\n",
       "4  anjali          fin   20    641000  12820.0"
      ]
     },
     "execution_count": 6,
     "metadata": {},
     "output_type": "execute_result"
    }
   ],
   "source": [
    "df['hra']=df['basicsal']*0.02\n",
    "df"
   ]
  },
  {
   "cell_type": "code",
   "execution_count": null,
   "id": "01e0aeba",
   "metadata": {},
   "outputs": [],
   "source": []
  }
 ],
 "metadata": {
  "kernelspec": {
   "display_name": "Python 3 (ipykernel)",
   "language": "python",
   "name": "python3"
  },
  "language_info": {
   "codemirror_mode": {
    "name": "ipython",
    "version": 3
   },
   "file_extension": ".py",
   "mimetype": "text/x-python",
   "name": "python",
   "nbconvert_exporter": "python",
   "pygments_lexer": "ipython3",
   "version": "3.11.1"
  }
 },
 "nbformat": 4,
 "nbformat_minor": 5
}
