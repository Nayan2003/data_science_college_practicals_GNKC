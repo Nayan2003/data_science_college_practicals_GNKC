{
 "cells": [
  {
   "cell_type": "markdown",
   "id": "c82c21d3",
   "metadata": {},
   "source": [
    "# NumPy Practical 2"
   ]
  },
  {
   "cell_type": "markdown",
   "id": "af4be68e",
   "metadata": {},
   "source": [
    "#### Roll no.407  \n",
    "#### Name : Nayan khuje"
   ]
  },
  {
   "cell_type": "code",
   "execution_count": 1,
   "id": "049b4afa",
   "metadata": {},
   "outputs": [],
   "source": [
    "import numpy as np"
   ]
  },
  {
   "cell_type": "markdown",
   "id": "cdd8af23",
   "metadata": {},
   "source": [
    "## Q1"
   ]
  },
  {
   "cell_type": "markdown",
   "id": "4db864a9",
   "metadata": {},
   "source": [
    "##### a) Create a one -dimensional array consist of any 10 negative numbers."
   ]
  },
  {
   "cell_type": "code",
   "execution_count": 2,
   "id": "e89b8e58",
   "metadata": {},
   "outputs": [],
   "source": [
    "a=np.array([-1,-2,-3,-3,-6,-7,-17,-12,-15,-1])"
   ]
  },
  {
   "cell_type": "markdown",
   "id": "c22836d2",
   "metadata": {},
   "source": [
    "##### b) Create a 2-dimensional array consists of any 12 numbers."
   ]
  },
  {
   "cell_type": "code",
   "execution_count": 3,
   "id": "70774c07",
   "metadata": {},
   "outputs": [
    {
     "name": "stdout",
     "output_type": "stream",
     "text": [
      "[[1 2 1 4 5 5]\n",
      " [4 5 8 4 6 9]]\n"
     ]
    }
   ],
   "source": [
    "b=np.array([[1,2,1,4,5,5],[4,5,8,4,6,9]])\n",
    "print(b)"
   ]
  },
  {
   "cell_type": "markdown",
   "id": "43373708",
   "metadata": {},
   "source": [
    "##### c) Create a 1-dimensional array consists of first 10 odd natural numbers."
   ]
  },
  {
   "cell_type": "code",
   "execution_count": 4,
   "id": "e7504258",
   "metadata": {},
   "outputs": [
    {
     "name": "stdout",
     "output_type": "stream",
     "text": [
      "[ 1  3  5  7  9 11 13 15 17 19]\n"
     ]
    }
   ],
   "source": [
    "c=np.array([1,3,5,7,9,11,13,15,17,19])\n",
    "print(c)"
   ]
  },
  {
   "cell_type": "code",
   "execution_count": 12,
   "id": "97025e1c",
   "metadata": {},
   "outputs": [
    {
     "data": {
      "text/plain": [
       "array([[ 1,  3,  5,  7,  9],\n",
       "       [11, 13, 15, 17, 19]])"
      ]
     },
     "execution_count": 12,
     "metadata": {},
     "output_type": "execute_result"
    }
   ],
   "source": [
    "c.reshape(2,5)"
   ]
  },
  {
   "cell_type": "code",
   "execution_count": 5,
   "id": "0a6956e8",
   "metadata": {
    "scrolled": true
   },
   "outputs": [
    {
     "name": "stdout",
     "output_type": "stream",
     "text": [
      "[ 1  3  5  7  9 11 13 15 17 19]\n"
     ]
    }
   ],
   "source": [
    "c=np.arange(1,20,2)\n",
    "print(c)"
   ]
  },
  {
   "cell_type": "code",
   "execution_count": 9,
   "id": "9572b154",
   "metadata": {},
   "outputs": [
    {
     "data": {
      "text/plain": [
       "array([ 5, 10, 15, 20, 25, 30, 35, 40, 45, 50])"
      ]
     },
     "execution_count": 9,
     "metadata": {},
     "output_type": "execute_result"
    }
   ],
   "source": [
    "c1=np.arange(5,51,5)\n",
    "c1"
   ]
  },
  {
   "cell_type": "markdown",
   "id": "f611bb27",
   "metadata": {},
   "source": [
    "##### d) Create a 2-dimensional array with 4 rows and 5 columns with all entry 0."
   ]
  },
  {
   "cell_type": "code",
   "execution_count": 10,
   "id": "21f33051",
   "metadata": {},
   "outputs": [
    {
     "name": "stdout",
     "output_type": "stream",
     "text": [
      "[[0. 0. 0. 0. 0.]\n",
      " [0. 0. 0. 0. 0.]\n",
      " [0. 0. 0. 0. 0.]\n",
      " [0. 0. 0. 0. 0.]]\n"
     ]
    }
   ],
   "source": [
    "d=np.zeros([4,5])\n",
    "print(d)"
   ]
  },
  {
   "cell_type": "markdown",
   "id": "9680d95e",
   "metadata": {},
   "source": [
    "##### e) Create a 2-dimensional array with 3 row and 4 columns with all entries 2.4."
   ]
  },
  {
   "cell_type": "code",
   "execution_count": 18,
   "id": "5ca6afe3",
   "metadata": {},
   "outputs": [
    {
     "name": "stdout",
     "output_type": "stream",
     "text": [
      "[[2.4 2.4 2.4 2.4]\n",
      " [2.4 2.4 2.4 2.4]\n",
      " [2.4 2.4 2.4 2.4]]\n"
     ]
    }
   ],
   "source": [
    "e=np.full((3,4),2.4)\n",
    "print(e)"
   ]
  },
  {
   "cell_type": "markdown",
   "id": "33b5c534",
   "metadata": {},
   "source": [
    "##### f) Using arange() method create a 2-dimensional array with 2 rows and 5 columns with starting value 2 and values are increased by 3."
   ]
  },
  {
   "cell_type": "code",
   "execution_count": 11,
   "id": "5ef4382b",
   "metadata": {},
   "outputs": [
    {
     "name": "stdout",
     "output_type": "stream",
     "text": [
      "[[ 2  5  8 11 14]\n",
      " [17 20 23 26 29]]\n"
     ]
    }
   ],
   "source": [
    "f=np.arange(2,30,3).reshape(2,5)\n",
    "print(f)"
   ]
  },
  {
   "cell_type": "markdown",
   "id": "f6825146",
   "metadata": {},
   "source": [
    "##### g) Using reshape(), create a 2-dimensional array with 2 rows and 5 columns using the array created in Q.1 a"
   ]
  },
  {
   "cell_type": "code",
   "execution_count": 43,
   "id": "967f1e1d",
   "metadata": {},
   "outputs": [
    {
     "name": "stdout",
     "output_type": "stream",
     "text": [
      "[[ -1  -2  -3  -3  -6]\n",
      " [ -7 -17 -12 -15  -1]]\n"
     ]
    }
   ],
   "source": [
    "g=a.reshape(2,5)\n",
    "print(g)"
   ]
  },
  {
   "cell_type": "markdown",
   "id": "d1c17638",
   "metadata": {},
   "source": [
    "##### h) Create a 2-dimensional array with 4 rows and 5 columns with random values in it.\n"
   ]
  },
  {
   "cell_type": "code",
   "execution_count": 46,
   "id": "66882eb7",
   "metadata": {},
   "outputs": [
    {
     "name": "stdout",
     "output_type": "stream",
     "text": [
      "[[0.45305903 0.01980625 0.33845973 0.06215952 0.67024461]\n",
      " [0.39822658 0.97086345 0.58622444 0.82871962 0.36224319]\n",
      " [0.27812149 0.84840827 0.56680048 0.22792051 0.65448341]\n",
      " [0.02468703 0.43703767 0.83429562 0.66989516 0.59431323]]\n"
     ]
    }
   ],
   "source": [
    "h=np.random.rand(4,5)\n",
    "print(h)"
   ]
  },
  {
   "cell_type": "code",
   "execution_count": 13,
   "id": "d505ff03",
   "metadata": {},
   "outputs": [
    {
     "data": {
      "text/plain": [
       "array([[0.42548181, 0.2003089 , 0.49571065, 0.21138405],\n",
       "       [0.31115047, 0.19042346, 0.22884389, 0.56292334],\n",
       "       [0.13088531, 0.9738698 , 0.40714048, 0.58026299],\n",
       "       [0.42546634, 0.27428328, 0.21659153, 0.06032426],\n",
       "       [0.23308522, 0.26111998, 0.93034834, 0.00250379]])"
      ]
     },
     "execution_count": 13,
     "metadata": {},
     "output_type": "execute_result"
    }
   ],
   "source": [
    "h1=np.random.rand(5,4)\n",
    "h1"
   ]
  },
  {
   "cell_type": "markdown",
   "id": "8d25c3aa",
   "metadata": {},
   "source": [
    "# Q 2"
   ]
  },
  {
   "cell_type": "markdown",
   "id": "b966d958",
   "metadata": {},
   "source": [
    "##### . a) Display the dimension, shape, size, data type, size of each element of the array, for all the array created above."
   ]
  },
  {
   "cell_type": "code",
   "execution_count": 50,
   "id": "15ef468d",
   "metadata": {},
   "outputs": [
    {
     "name": "stdout",
     "output_type": "stream",
     "text": [
      "1\n",
      "(10,)\n",
      "10\n",
      "int32\n",
      "4\n"
     ]
    }
   ],
   "source": [
    "#for a\n",
    "print(a.ndim)\n",
    "print(a.shape)\n",
    "print(a.size)\n",
    "print(a.dtype)\n",
    "print(a.itemsize)"
   ]
  },
  {
   "cell_type": "code",
   "execution_count": 51,
   "id": "36edad4c",
   "metadata": {},
   "outputs": [
    {
     "name": "stdout",
     "output_type": "stream",
     "text": [
      "2\n",
      "(2, 6)\n",
      "12\n",
      "int32\n",
      "4\n"
     ]
    }
   ],
   "source": [
    "#for b\n",
    "print(b.ndim)\n",
    "print(b.shape)\n",
    "print(b.size)\n",
    "print(b.dtype)\n",
    "print(b.itemsize)"
   ]
  },
  {
   "cell_type": "code",
   "execution_count": 57,
   "id": "5a4c3b59",
   "metadata": {},
   "outputs": [
    {
     "name": "stdout",
     "output_type": "stream",
     "text": [
      "1\n",
      "(10,)\n",
      "10\n",
      "int32\n",
      "4\n"
     ]
    }
   ],
   "source": [
    "#for c\n",
    "print(c.ndim)\n",
    "print(c.shape)\n",
    "print(c.size)\n",
    "print(c.dtype)\n",
    "print(c.itemsize)"
   ]
  },
  {
   "cell_type": "code",
   "execution_count": 58,
   "id": "fbbb7a49",
   "metadata": {},
   "outputs": [
    {
     "name": "stdout",
     "output_type": "stream",
     "text": [
      "2\n",
      "(4, 5)\n",
      "20\n",
      "float64\n",
      "8\n"
     ]
    }
   ],
   "source": [
    "#for d\n",
    "print(d.ndim)\n",
    "print(d.shape)\n",
    "print(d.size)\n",
    "print(d.dtype)\n",
    "print(d.itemsize)"
   ]
  },
  {
   "cell_type": "code",
   "execution_count": 59,
   "id": "f9b146a8",
   "metadata": {},
   "outputs": [
    {
     "name": "stdout",
     "output_type": "stream",
     "text": [
      "2\n",
      "(3, 4)\n",
      "12\n",
      "float64\n",
      "8\n"
     ]
    }
   ],
   "source": [
    "#for e\n",
    "print(e.ndim)\n",
    "print(e.shape)\n",
    "print(e.size)\n",
    "print(e.dtype)\n",
    "print(e.itemsize)"
   ]
  },
  {
   "cell_type": "code",
   "execution_count": 127,
   "id": "c20495a8",
   "metadata": {},
   "outputs": [
    {
     "name": "stdout",
     "output_type": "stream",
     "text": [
      "2\n",
      "(2, 5)\n",
      "10\n",
      "int32\n",
      "4\n"
     ]
    }
   ],
   "source": [
    "#for f\n",
    "print(f.ndim)\n",
    "print(f.shape)\n",
    "print(f.size)\n",
    "print(f.dtype)\n",
    "print(f.itemsize)"
   ]
  },
  {
   "cell_type": "code",
   "execution_count": 61,
   "id": "65cd0ef0",
   "metadata": {},
   "outputs": [
    {
     "name": "stdout",
     "output_type": "stream",
     "text": [
      "2\n",
      "(2, 5)\n",
      "10\n",
      "int32\n",
      "4\n"
     ]
    }
   ],
   "source": [
    "#for g\n",
    "print(g.ndim)\n",
    "print(g.shape)\n",
    "print(g.size)\n",
    "print(g.dtype)\n",
    "print(g.itemsize)"
   ]
  },
  {
   "cell_type": "code",
   "execution_count": 62,
   "id": "063a8848",
   "metadata": {},
   "outputs": [
    {
     "name": "stdout",
     "output_type": "stream",
     "text": [
      "2\n",
      "(4, 5)\n",
      "20\n",
      "float64\n",
      "8\n"
     ]
    }
   ],
   "source": [
    "#for h\n",
    "print(h.ndim)\n",
    "print(h.shape)\n",
    "print(h.size)\n",
    "print(h.dtype)\n",
    "print(h.itemsize)"
   ]
  },
  {
   "cell_type": "markdown",
   "id": "136f9ade",
   "metadata": {},
   "source": [
    "##### b) Display the first, second, last and second last element of the array created in the question 1."
   ]
  },
  {
   "cell_type": "code",
   "execution_count": 65,
   "id": "8720c44f",
   "metadata": {},
   "outputs": [
    {
     "name": "stdout",
     "output_type": "stream",
     "text": [
      "-1\n",
      "-2\n",
      "-1\n",
      "-15\n"
     ]
    }
   ],
   "source": [
    "#for a (1 dim)\n",
    "print(a[0]) #first\n",
    "print(a[1]) #second\n",
    "print(a[-1]) #last\n",
    "print(a[-2]) #second last"
   ]
  },
  {
   "cell_type": "code",
   "execution_count": 70,
   "id": "b6183918",
   "metadata": {},
   "outputs": [
    {
     "name": "stdout",
     "output_type": "stream",
     "text": [
      "1\n",
      "2\n",
      "4\n",
      "9\n",
      "5\n",
      "6\n"
     ]
    }
   ],
   "source": [
    "#for b (2 dim)\n",
    "print(b[0,0]) #first\n",
    "print(b[0,1]) #second last row wise\n",
    "print(b[1,0]) #second last column wise\n",
    "print(b[-1,-1]) #last\n",
    "print(b[-2,-1]) #second last column wise\n",
    "print(b[-1,-2]) #second last row wise"
   ]
  },
  {
   "cell_type": "code",
   "execution_count": 72,
   "id": "74c4351f",
   "metadata": {},
   "outputs": [
    {
     "name": "stdout",
     "output_type": "stream",
     "text": [
      "1\n",
      "3\n",
      "19\n",
      "17\n"
     ]
    }
   ],
   "source": [
    "#for c (1 dim)\n",
    "print(c[0]) #first\n",
    "print(c[1]) #second\n",
    "print(c[-1]) #last\n",
    "print(c[-2]) #second last"
   ]
  },
  {
   "cell_type": "code",
   "execution_count": 73,
   "id": "b3d2b396",
   "metadata": {},
   "outputs": [
    {
     "name": "stdout",
     "output_type": "stream",
     "text": [
      "0.0\n",
      "0.0\n",
      "0.0\n",
      "0.0\n",
      "0.0\n",
      "0.0\n"
     ]
    }
   ],
   "source": [
    "#for d (2 dim)\n",
    "print(d[0,0]) #first\n",
    "print(d[0,1]) #second last row wise\n",
    "print(d[1,0]) #second last column wise\n",
    "print(d[-1,-1]) #last\n",
    "print(d[-2,-1]) #second last column wise\n",
    "print(d[-1,-2]) #second last row wise"
   ]
  },
  {
   "cell_type": "code",
   "execution_count": 74,
   "id": "63db3e6d",
   "metadata": {},
   "outputs": [
    {
     "name": "stdout",
     "output_type": "stream",
     "text": [
      "2.4\n",
      "2.4\n",
      "2.4\n",
      "2.4\n",
      "2.4\n",
      "2.4\n"
     ]
    }
   ],
   "source": [
    "#for e (2 dim)\n",
    "print(e[0,0]) #first\n",
    "print(e[0,1]) #second last row wise\n",
    "print(e[1,0]) #second last column wise\n",
    "print(e[1,-1]) #last\n",
    "print(e[-2,-1]) #second last column wise\n",
    "print(e[-1,-2]) #second last row wise"
   ]
  },
  {
   "cell_type": "code",
   "execution_count": 128,
   "id": "2ec8434d",
   "metadata": {},
   "outputs": [
    {
     "name": "stdout",
     "output_type": "stream",
     "text": [
      "2\n",
      "5\n",
      "17\n",
      "29\n",
      "14\n",
      "26\n"
     ]
    }
   ],
   "source": [
    "#for f (2 dim)\n",
    "print(f[0,0]) #first\n",
    "print(f[0,1]) #second last row wise\n",
    "print(f[1,0]) #second last column wise\n",
    "print(f[1,-1]) #last\n",
    "print(f[-2,-1]) #second last column wise\n",
    "print(f[-1,-2]) #second last row wise"
   ]
  },
  {
   "cell_type": "code",
   "execution_count": 81,
   "id": "f6bf049f",
   "metadata": {},
   "outputs": [
    {
     "name": "stdout",
     "output_type": "stream",
     "text": [
      "-1\n",
      "-2\n",
      "-7\n",
      "-1\n",
      "-6\n",
      "-15\n"
     ]
    }
   ],
   "source": [
    "#for g (2 dim)\n",
    "print(g[0,0]) #first\n",
    "print(g[0,1]) #second last row wise\n",
    "print(g[1,0]) #second last column wise\n",
    "print(g[-1,-1]) #last\n",
    "print(g[-2,-1]) #second last column wise\n",
    "print(g[-1,-2]) #second last row wise"
   ]
  },
  {
   "cell_type": "code",
   "execution_count": 82,
   "id": "b9808ed4",
   "metadata": {},
   "outputs": [
    {
     "name": "stdout",
     "output_type": "stream",
     "text": [
      "0.45305902675862453\n",
      "0.019806248145854966\n",
      "0.39822657538031625\n",
      "0.5943132331668244\n",
      "0.654483405167205\n",
      "0.6698951562102261\n"
     ]
    }
   ],
   "source": [
    "#for h (2 dim)\n",
    "print(h[0,0]) #first\n",
    "print(h[0,1]) #second last row wise\n",
    "print(h[1,0]) #second last column wise\n",
    "print(h[-1,-1]) #last\n",
    "print(h[-2,-1]) #second last column wise\n",
    "print(h[-1,-2]) #second last row wise"
   ]
  },
  {
   "cell_type": "markdown",
   "id": "e64fcd9c",
   "metadata": {},
   "source": [
    "##### c) In all 1-dimensional array create in Q.1, display first 3 three elements, and last three elements."
   ]
  },
  {
   "cell_type": "code",
   "execution_count": 91,
   "id": "7480d273",
   "metadata": {},
   "outputs": [
    {
     "name": "stdout",
     "output_type": "stream",
     "text": [
      "[-1 -2 -3]\n",
      "[-12 -15  -1]\n"
     ]
    }
   ],
   "source": [
    "# for a \n",
    "print(a[0:3]) # first 3 elements\n",
    "print(a[-3:]) # last 3 elements"
   ]
  },
  {
   "cell_type": "code",
   "execution_count": 92,
   "id": "5f6a9449",
   "metadata": {},
   "outputs": [
    {
     "name": "stdout",
     "output_type": "stream",
     "text": [
      "[1 3 5]\n",
      "[15 17 19]\n"
     ]
    }
   ],
   "source": [
    "# for c \n",
    "print(c[0:3]) # first 3 elements\n",
    "print(c[-3:]) # last 3 elements"
   ]
  },
  {
   "cell_type": "markdown",
   "id": "d48887a4",
   "metadata": {},
   "source": [
    "##### d) In all 2-dimensional array created in Q.1, display all the elements in first row, second column in array."
   ]
  },
  {
   "cell_type": "code",
   "execution_count": 93,
   "id": "405078f3",
   "metadata": {},
   "outputs": [
    {
     "name": "stdout",
     "output_type": "stream",
     "text": [
      "[[1 2 1 4 5 5]]\n",
      "[[2]\n",
      " [5]]\n"
     ]
    }
   ],
   "source": [
    "#for b\n",
    "print(b[0:1,0:])\n",
    "print(b[0:,1:2])"
   ]
  },
  {
   "cell_type": "code",
   "execution_count": 94,
   "id": "8046725d",
   "metadata": {},
   "outputs": [
    {
     "name": "stdout",
     "output_type": "stream",
     "text": [
      "[[0. 0. 0. 0. 0.]]\n",
      "[[0.]\n",
      " [0.]\n",
      " [0.]\n",
      " [0.]]\n"
     ]
    }
   ],
   "source": [
    "#for d\n",
    "print(d[0:1,0:])\n",
    "print(d[0:,1:2])"
   ]
  },
  {
   "cell_type": "code",
   "execution_count": 95,
   "id": "66143193",
   "metadata": {},
   "outputs": [
    {
     "name": "stdout",
     "output_type": "stream",
     "text": [
      "[[2.4 2.4 2.4 2.4]]\n",
      "[[2.4]\n",
      " [2.4]\n",
      " [2.4]]\n"
     ]
    }
   ],
   "source": [
    "#for e\n",
    "print(e[0:1,0:])\n",
    "print(e[0:,1:2])"
   ]
  },
  {
   "cell_type": "code",
   "execution_count": 129,
   "id": "4fe34f6e",
   "metadata": {},
   "outputs": [
    {
     "name": "stdout",
     "output_type": "stream",
     "text": [
      "[[ 2  5  8 11 14]]\n",
      "[[ 5]\n",
      " [20]]\n"
     ]
    }
   ],
   "source": [
    "#for f\n",
    "print(f[0:1,0:])\n",
    "print(f[0:,1:2])"
   ]
  },
  {
   "cell_type": "code",
   "execution_count": 98,
   "id": "e01dc05f",
   "metadata": {},
   "outputs": [
    {
     "name": "stdout",
     "output_type": "stream",
     "text": [
      "[[-1 -2 -3 -3 -6]]\n",
      "[[ -2]\n",
      " [-17]]\n"
     ]
    }
   ],
   "source": [
    "#for g\n",
    "print(g[0:1,0:])\n",
    "print(g[0:,1:2])"
   ]
  },
  {
   "cell_type": "code",
   "execution_count": 99,
   "id": "2b1784f7",
   "metadata": {},
   "outputs": [
    {
     "name": "stdout",
     "output_type": "stream",
     "text": [
      "[[0.45305903 0.01980625 0.33845973 0.06215952 0.67024461]]\n",
      "[[0.01980625]\n",
      " [0.97086345]\n",
      " [0.84840827]\n",
      " [0.43703767]]\n"
     ]
    }
   ],
   "source": [
    "#for h\n",
    "print(h[0:1,0:])\n",
    "print(h[0:,1:2])"
   ]
  },
  {
   "cell_type": "markdown",
   "id": "198fefa5",
   "metadata": {},
   "source": [
    "# Q3"
   ]
  },
  {
   "cell_type": "markdown",
   "id": "f08584f0",
   "metadata": {},
   "source": [
    "#####  a) Add, subtract, multiply and divide the array created in Q1. a and Q1. C. Perform the same operation on the array created in Q1. D and Q1. h."
   ]
  },
  {
   "cell_type": "code",
   "execution_count": 106,
   "id": "b1fecc1e",
   "metadata": {},
   "outputs": [
    {
     "name": "stdout",
     "output_type": "stream",
     "text": [
      "[ 0  1  2  4  3  4 -4  3  2 18]\n",
      "[ -2  -5  -8 -10 -15 -18 -30 -27 -32 -20]\n",
      "[  -1   -6  -15  -21  -54  -77 -221 -180 -255  -19]\n",
      "[-1.         -0.66666667 -0.6        -0.42857143 -0.66666667 -0.63636364\n",
      " -1.30769231 -0.8        -0.88235294 -0.05263158]\n"
     ]
    }
   ],
   "source": [
    "# for  a and Q1. C \n",
    "print(a+c) # addition\n",
    "print(a-c) #subtraction\n",
    "print(a*c) #multiplication\n",
    "print(a/c) #division"
   ]
  },
  {
   "cell_type": "code",
   "execution_count": 107,
   "id": "156d6a3b",
   "metadata": {},
   "outputs": [
    {
     "name": "stdout",
     "output_type": "stream",
     "text": [
      "[[0.45305903 0.01980625 0.33845973 0.06215952 0.67024461]\n",
      " [0.39822658 0.97086345 0.58622444 0.82871962 0.36224319]\n",
      " [0.27812149 0.84840827 0.56680048 0.22792051 0.65448341]\n",
      " [0.02468703 0.43703767 0.83429562 0.66989516 0.59431323]]\n",
      "[[-0.45305903 -0.01980625 -0.33845973 -0.06215952 -0.67024461]\n",
      " [-0.39822658 -0.97086345 -0.58622444 -0.82871962 -0.36224319]\n",
      " [-0.27812149 -0.84840827 -0.56680048 -0.22792051 -0.65448341]\n",
      " [-0.02468703 -0.43703767 -0.83429562 -0.66989516 -0.59431323]]\n",
      "[[0. 0. 0. 0. 0.]\n",
      " [0. 0. 0. 0. 0.]\n",
      " [0. 0. 0. 0. 0.]\n",
      " [0. 0. 0. 0. 0.]]\n",
      "[[0. 0. 0. 0. 0.]\n",
      " [0. 0. 0. 0. 0.]\n",
      " [0. 0. 0. 0. 0.]\n",
      " [0. 0. 0. 0. 0.]]\n"
     ]
    }
   ],
   "source": [
    "# for D and Q1. h.\n",
    "print(d+h) # addition\n",
    "print(d-h) #subtraction\n",
    "print(d*h) #multiplication\n",
    "print(d/h) #division"
   ]
  },
  {
   "cell_type": "markdown",
   "id": "aeeda238",
   "metadata": {},
   "source": [
    "##### b) Find the square root of the all element of array created in Q1 c"
   ]
  },
  {
   "cell_type": "code",
   "execution_count": 112,
   "id": "f144c880",
   "metadata": {},
   "outputs": [
    {
     "name": "stdout",
     "output_type": "stream",
     "text": [
      "[1.         1.73205081 2.23606798 2.64575131 3.         3.31662479\n",
      " 3.60555128 3.87298335 4.12310563 4.35889894]\n"
     ]
    }
   ],
   "source": [
    "print(np.sqrt(c))"
   ]
  },
  {
   "cell_type": "markdown",
   "id": "a5502348",
   "metadata": {},
   "source": [
    "##### c) Display square of all elements created in the array Q1. f."
   ]
  },
  {
   "cell_type": "code",
   "execution_count": 114,
   "id": "b271521f",
   "metadata": {},
   "outputs": [
    {
     "name": "stdout",
     "output_type": "stream",
     "text": [
      "[[[  4  25  64 121 196]]\n",
      "\n",
      " [[289 400 529 676 841]]]\n"
     ]
    }
   ],
   "source": [
    "print(np.square(f1))"
   ]
  },
  {
   "cell_type": "markdown",
   "id": "b1ac73b6",
   "metadata": {},
   "source": [
    "##### d) Display the sign of each element created in the array Q1. h."
   ]
  },
  {
   "cell_type": "code",
   "execution_count": 115,
   "id": "68c3c190",
   "metadata": {},
   "outputs": [
    {
     "name": "stdout",
     "output_type": "stream",
     "text": [
      "[[1. 1. 1. 1. 1.]\n",
      " [1. 1. 1. 1. 1.]\n",
      " [1. 1. 1. 1. 1.]\n",
      " [1. 1. 1. 1. 1.]]\n"
     ]
    }
   ],
   "source": [
    "print(np.sign(h))"
   ]
  },
  {
   "cell_type": "markdown",
   "id": "e6cef820",
   "metadata": {},
   "source": [
    "# Q.4"
   ]
  },
  {
   "cell_type": "markdown",
   "id": "6ed5776f",
   "metadata": {},
   "source": [
    "##### a) Find the transpose of all 2-dimensional array created in Q1.\n"
   ]
  },
  {
   "cell_type": "code",
   "execution_count": 118,
   "id": "f018f21b",
   "metadata": {},
   "outputs": [
    {
     "name": "stdout",
     "output_type": "stream",
     "text": [
      "[[1 4]\n",
      " [2 5]\n",
      " [1 8]\n",
      " [4 4]\n",
      " [5 6]\n",
      " [5 9]]\n"
     ]
    }
   ],
   "source": [
    "print(b.transpose()) # for b"
   ]
  },
  {
   "cell_type": "code",
   "execution_count": 18,
   "id": "32cebdd1",
   "metadata": {},
   "outputs": [
    {
     "data": {
      "text/plain": [
       "array([[1, 4],\n",
       "       [2, 5],\n",
       "       [1, 8],\n",
       "       [4, 4],\n",
       "       [5, 6],\n",
       "       [5, 9]])"
      ]
     },
     "execution_count": 18,
     "metadata": {},
     "output_type": "execute_result"
    }
   ],
   "source": [
    "np.transpose(b)"
   ]
  },
  {
   "cell_type": "code",
   "execution_count": 119,
   "id": "920f4c00",
   "metadata": {},
   "outputs": [
    {
     "name": "stdout",
     "output_type": "stream",
     "text": [
      "[[0. 0. 0. 0.]\n",
      " [0. 0. 0. 0.]\n",
      " [0. 0. 0. 0.]\n",
      " [0. 0. 0. 0.]\n",
      " [0. 0. 0. 0.]]\n"
     ]
    }
   ],
   "source": [
    "print(d.transpose()) # for d"
   ]
  },
  {
   "cell_type": "code",
   "execution_count": 120,
   "id": "e23db78d",
   "metadata": {
    "scrolled": true
   },
   "outputs": [
    {
     "name": "stdout",
     "output_type": "stream",
     "text": [
      "[[2.4 2.4 2.4]\n",
      " [2.4 2.4 2.4]\n",
      " [2.4 2.4 2.4]\n",
      " [2.4 2.4 2.4]]\n"
     ]
    }
   ],
   "source": [
    "print(e.transpose()) # for e"
   ]
  },
  {
   "cell_type": "code",
   "execution_count": 130,
   "id": "8277f9ae",
   "metadata": {},
   "outputs": [
    {
     "name": "stdout",
     "output_type": "stream",
     "text": [
      "[[ 2 17]\n",
      " [ 5 20]\n",
      " [ 8 23]\n",
      " [11 26]\n",
      " [14 29]]\n"
     ]
    }
   ],
   "source": [
    "print(f.transpose()) # for f"
   ]
  },
  {
   "cell_type": "code",
   "execution_count": 121,
   "id": "68b6db67",
   "metadata": {},
   "outputs": [
    {
     "name": "stdout",
     "output_type": "stream",
     "text": [
      "[[ -1  -7]\n",
      " [ -2 -17]\n",
      " [ -3 -12]\n",
      " [ -3 -15]\n",
      " [ -6  -1]]\n"
     ]
    }
   ],
   "source": [
    "print(g.transpose()) # for g"
   ]
  },
  {
   "cell_type": "code",
   "execution_count": 122,
   "id": "f0bd7133",
   "metadata": {},
   "outputs": [
    {
     "name": "stdout",
     "output_type": "stream",
     "text": [
      "[[0.45305903 0.39822658 0.27812149 0.02468703]\n",
      " [0.01980625 0.97086345 0.84840827 0.43703767]\n",
      " [0.33845973 0.58622444 0.56680048 0.83429562]\n",
      " [0.06215952 0.82871962 0.22792051 0.66989516]\n",
      " [0.67024461 0.36224319 0.65448341 0.59431323]]\n"
     ]
    }
   ],
   "source": [
    "print(h.transpose()) # for h"
   ]
  },
  {
   "cell_type": "markdown",
   "id": "9e9d1dce",
   "metadata": {},
   "source": [
    "##### b) Sort all the 1-dimensional array created in Q1 in ascending order"
   ]
  },
  {
   "cell_type": "code",
   "execution_count": 32,
   "id": "d5f6f68d",
   "metadata": {},
   "outputs": [
    {
     "name": "stdout",
     "output_type": "stream",
     "text": [
      "[-17 -15 -12  -7  -6  -3  -3  -2  -1  -1]\n"
     ]
    }
   ],
   "source": [
    "#for a\n",
    "srt_a=np.sort(a)\n",
    "print(srt_a)\n"
   ]
  },
  {
   "cell_type": "code",
   "execution_count": 31,
   "id": "83df59df",
   "metadata": {},
   "outputs": [
    {
     "name": "stdout",
     "output_type": "stream",
     "text": [
      "[ -1  -1  -2  -3  -3  -6  -7 -12 -15 -17]\n"
     ]
    }
   ],
   "source": [
    "#for a# for decending\n",
    "srt_a=-np.sort(-a)\n",
    "print(srt_a)"
   ]
  },
  {
   "cell_type": "code",
   "execution_count": 21,
   "id": "cef2e546",
   "metadata": {},
   "outputs": [
    {
     "name": "stdout",
     "output_type": "stream",
     "text": [
      "[ 1  3  5  7  9 11 13 15 17 19]\n"
     ]
    }
   ],
   "source": [
    "#for c\n",
    "srt_c=np.sort(c)\n",
    "print(srt_c)"
   ]
  },
  {
   "cell_type": "code",
   "execution_count": 22,
   "id": "1ee04881",
   "metadata": {},
   "outputs": [
    {
     "name": "stdout",
     "output_type": "stream",
     "text": [
      "None\n"
     ]
    }
   ],
   "source": [
    "print(c.sort())"
   ]
  },
  {
   "cell_type": "markdown",
   "id": "c6d42114",
   "metadata": {},
   "source": [
    "##### c) Sort all the 1-dimensional array created in Q1 in descending order"
   ]
  },
  {
   "cell_type": "code",
   "execution_count": 138,
   "id": "5868dd49",
   "metadata": {},
   "outputs": [
    {
     "name": "stdout",
     "output_type": "stream",
     "text": [
      "[ -1  -1  -2  -3  -3  -6  -7 -12 -15 -17]\n"
     ]
    }
   ],
   "source": [
    "#for a\n",
    "a[::-1].sort()\n",
    "print(a)"
   ]
  },
  {
   "cell_type": "code",
   "execution_count": 139,
   "id": "a413d90b",
   "metadata": {},
   "outputs": [
    {
     "name": "stdout",
     "output_type": "stream",
     "text": [
      "[19 17 15 13 11  9  7  5  3  1]\n"
     ]
    }
   ],
   "source": [
    "#for c\n",
    "c[::-1].sort()\n",
    "print(c)"
   ]
  },
  {
   "cell_type": "markdown",
   "id": "c4b96fc6",
   "metadata": {},
   "source": [
    "##### d) Sort all 2-dimensional array created in Q1 in ascending order row wise."
   ]
  },
  {
   "cell_type": "code",
   "execution_count": 30,
   "id": "04cc0425",
   "metadata": {},
   "outputs": [
    {
     "name": "stdout",
     "output_type": "stream",
     "text": [
      "[[1 1 2 4 5 5]\n",
      " [4 4 5 6 8 9]]\n"
     ]
    }
   ],
   "source": [
    "#for b\n",
    "srt_b=np.sort(b,axis=1)\n",
    "print(srt_b)"
   ]
  },
  {
   "cell_type": "code",
   "execution_count": 142,
   "id": "823d41ce",
   "metadata": {},
   "outputs": [
    {
     "name": "stdout",
     "output_type": "stream",
     "text": [
      "[[0. 0. 0. 0. 0.]\n",
      " [0. 0. 0. 0. 0.]\n",
      " [0. 0. 0. 0. 0.]\n",
      " [0. 0. 0. 0. 0.]]\n"
     ]
    }
   ],
   "source": [
    "#for d\n",
    "srt_d=np.sort(d,axis=1)\n",
    "print(srt_d)"
   ]
  },
  {
   "cell_type": "code",
   "execution_count": 143,
   "id": "9b9eb7c6",
   "metadata": {},
   "outputs": [
    {
     "name": "stdout",
     "output_type": "stream",
     "text": [
      "[[2.4 2.4 2.4 2.4]\n",
      " [2.4 2.4 2.4 2.4]\n",
      " [2.4 2.4 2.4 2.4]]\n"
     ]
    }
   ],
   "source": [
    "#for e\n",
    "srt_e=np.sort(e,axis=1)\n",
    "print(srt_e)"
   ]
  },
  {
   "cell_type": "code",
   "execution_count": 144,
   "id": "09c5ada3",
   "metadata": {},
   "outputs": [
    {
     "name": "stdout",
     "output_type": "stream",
     "text": [
      "[[ 2  5  8 11 14]\n",
      " [17 20 23 26 29]]\n"
     ]
    }
   ],
   "source": [
    "#for f\n",
    "srt_f=np.sort(f,axis=1)\n",
    "print(srt_f)"
   ]
  },
  {
   "cell_type": "code",
   "execution_count": 145,
   "id": "fe8a0224",
   "metadata": {},
   "outputs": [
    {
     "name": "stdout",
     "output_type": "stream",
     "text": [
      "[[ -3  -3  -2  -1  -1]\n",
      " [-17 -15 -12  -7  -6]]\n"
     ]
    }
   ],
   "source": [
    "#for g\n",
    "srt_g=np.sort(g,axis=1)\n",
    "print(srt_g)"
   ]
  },
  {
   "cell_type": "code",
   "execution_count": 146,
   "id": "82a2fb51",
   "metadata": {},
   "outputs": [
    {
     "name": "stdout",
     "output_type": "stream",
     "text": [
      "[[0.01980625 0.06215952 0.33845973 0.45305903 0.67024461]\n",
      " [0.36224319 0.39822658 0.58622444 0.82871962 0.97086345]\n",
      " [0.22792051 0.27812149 0.56680048 0.65448341 0.84840827]\n",
      " [0.02468703 0.43703767 0.59431323 0.66989516 0.83429562]]\n"
     ]
    }
   ],
   "source": [
    "#for h\n",
    "srt_h=np.sort(h,axis=1)\n",
    "print(srt_h)"
   ]
  },
  {
   "cell_type": "markdown",
   "id": "73d37c33",
   "metadata": {},
   "source": [
    "##### e) Sort all 2-dimensional array create in Q1 in descending order column wise."
   ]
  },
  {
   "cell_type": "code",
   "execution_count": 151,
   "id": "01a4e747",
   "metadata": {},
   "outputs": [
    {
     "name": "stdout",
     "output_type": "stream",
     "text": [
      "[[4 5 8 4 6 9]\n",
      " [1 2 1 4 5 5]]\n"
     ]
    }
   ],
   "source": [
    "#for b\n",
    "dsrt_b=-np.sort(-b, axis=0)\n",
    "print(dsrt_b)"
   ]
  },
  {
   "cell_type": "code",
   "execution_count": 152,
   "id": "62ee1caa",
   "metadata": {},
   "outputs": [
    {
     "name": "stdout",
     "output_type": "stream",
     "text": [
      "[[0. 0. 0. 0. 0.]\n",
      " [0. 0. 0. 0. 0.]\n",
      " [0. 0. 0. 0. 0.]\n",
      " [0. 0. 0. 0. 0.]]\n"
     ]
    }
   ],
   "source": [
    "#for d\n",
    "dsrt_d=-np.sort(-d, axis=0)\n",
    "print(dsrt_d)"
   ]
  },
  {
   "cell_type": "code",
   "execution_count": 153,
   "id": "61f151f3",
   "metadata": {},
   "outputs": [
    {
     "name": "stdout",
     "output_type": "stream",
     "text": [
      "[[2.4 2.4 2.4 2.4]\n",
      " [2.4 2.4 2.4 2.4]\n",
      " [2.4 2.4 2.4 2.4]]\n"
     ]
    }
   ],
   "source": [
    "#for e\n",
    "dsrt_e=-np.sort(-e, axis=0)\n",
    "print(dsrt_e)"
   ]
  },
  {
   "cell_type": "code",
   "execution_count": 154,
   "id": "708d3d48",
   "metadata": {},
   "outputs": [
    {
     "name": "stdout",
     "output_type": "stream",
     "text": [
      "[[17 20 23 26 29]\n",
      " [ 2  5  8 11 14]]\n"
     ]
    }
   ],
   "source": [
    "#for f\n",
    "dsrt_f=-np.sort(-f, axis=0)\n",
    "print(dsrt_f)"
   ]
  },
  {
   "cell_type": "code",
   "execution_count": 155,
   "id": "dcd10113",
   "metadata": {},
   "outputs": [
    {
     "name": "stdout",
     "output_type": "stream",
     "text": [
      "[[ -1  -1  -2  -3  -3]\n",
      " [ -6  -7 -12 -15 -17]]\n"
     ]
    }
   ],
   "source": [
    "#for g\n",
    "dsrt_g=-np.sort(-g, axis=0)\n",
    "print(dsrt_g)"
   ]
  },
  {
   "cell_type": "code",
   "execution_count": 156,
   "id": "3ebc3017",
   "metadata": {},
   "outputs": [
    {
     "name": "stdout",
     "output_type": "stream",
     "text": [
      "[[0.45305903 0.97086345 0.83429562 0.82871962 0.67024461]\n",
      " [0.39822658 0.84840827 0.58622444 0.66989516 0.65448341]\n",
      " [0.27812149 0.43703767 0.56680048 0.22792051 0.59431323]\n",
      " [0.02468703 0.01980625 0.33845973 0.06215952 0.36224319]]\n"
     ]
    }
   ],
   "source": [
    "#for h\n",
    "dsrt_h=-np.sort(-h, axis=0)\n",
    "print(dsrt_h)"
   ]
  },
  {
   "cell_type": "markdown",
   "id": "50328f54",
   "metadata": {},
   "source": [
    "##### f) Create new 1-dimensional array by joining all 1-dinensional array created in Q1."
   ]
  },
  {
   "cell_type": "code",
   "execution_count": 164,
   "id": "a53236af",
   "metadata": {},
   "outputs": [
    {
     "name": "stdout",
     "output_type": "stream",
     "text": [
      "[ -1  -1  -2  -3  -3  -6  -7 -12 -15 -17  19  17  15  13  11   9   7   5\n",
      "   3   1]\n"
     ]
    }
   ],
   "source": [
    "con1=np.concatenate([a,c])\n",
    "print(con1)"
   ]
  },
  {
   "cell_type": "markdown",
   "id": "7faafefe",
   "metadata": {},
   "source": [
    "##### g) Create a new 2-dimensional array by joining 2-dimensioanl array Q1 d, Q1 h along x-axis.\n"
   ]
  },
  {
   "cell_type": "code",
   "execution_count": 166,
   "id": "6f3f3025",
   "metadata": {},
   "outputs": [
    {
     "name": "stdout",
     "output_type": "stream",
     "text": [
      "[[0.         0.         0.         0.         0.         0.45305903\n",
      "  0.01980625 0.33845973 0.06215952 0.67024461]\n",
      " [0.         0.         0.         0.         0.         0.39822658\n",
      "  0.97086345 0.58622444 0.82871962 0.36224319]\n",
      " [0.         0.         0.         0.         0.         0.27812149\n",
      "  0.84840827 0.56680048 0.22792051 0.65448341]\n",
      " [0.         0.         0.         0.         0.         0.02468703\n",
      "  0.43703767 0.83429562 0.66989516 0.59431323]]\n"
     ]
    }
   ],
   "source": [
    "con2_x=np.concatenate([d,h],axis=1)\n",
    "print(con2)"
   ]
  },
  {
   "cell_type": "markdown",
   "id": "2e74bbfe",
   "metadata": {},
   "source": [
    "##### h) Create a new 2-dimensional array by joining 2-dimensioanl array Q1 d, Q1 h along y-axis."
   ]
  },
  {
   "cell_type": "code",
   "execution_count": 167,
   "id": "3b7543e2",
   "metadata": {},
   "outputs": [
    {
     "name": "stdout",
     "output_type": "stream",
     "text": [
      "[[0.         0.         0.         0.         0.        ]\n",
      " [0.         0.         0.         0.         0.        ]\n",
      " [0.         0.         0.         0.         0.        ]\n",
      " [0.         0.         0.         0.         0.        ]\n",
      " [0.45305903 0.01980625 0.33845973 0.06215952 0.67024461]\n",
      " [0.39822658 0.97086345 0.58622444 0.82871962 0.36224319]\n",
      " [0.27812149 0.84840827 0.56680048 0.22792051 0.65448341]\n",
      " [0.02468703 0.43703767 0.83429562 0.66989516 0.59431323]]\n"
     ]
    }
   ],
   "source": [
    "con2_y=np.concatenate([d,h],axis=0)\n",
    "print(con2_y)"
   ]
  },
  {
   "cell_type": "markdown",
   "id": "44240033",
   "metadata": {},
   "source": [
    "# Q5"
   ]
  },
  {
   "cell_type": "markdown",
   "id": "e30ecc54",
   "metadata": {},
   "source": [
    "##### a) Find the maximum, minimum, mean and standard deviation of all 1-dimensional  array created in Q1.\n"
   ]
  },
  {
   "cell_type": "code",
   "execution_count": 172,
   "id": "7a13d42a",
   "metadata": {},
   "outputs": [
    {
     "name": "stdout",
     "output_type": "stream",
     "text": [
      "-1\n",
      "-17\n",
      "-6.7\n",
      "5.64003546088143\n"
     ]
    }
   ],
   "source": [
    "# for a\n",
    "print(np.max(a)) #maximum \n",
    "print(np.min(a)) #minimum\n",
    "print(np.mean(a)) #mean \n",
    "print(np.std(a)) #standard deviation"
   ]
  },
  {
   "cell_type": "code",
   "execution_count": 173,
   "id": "70c45739",
   "metadata": {},
   "outputs": [
    {
     "name": "stdout",
     "output_type": "stream",
     "text": [
      "19\n",
      "1\n",
      "10.0\n",
      "5.744562646538029\n"
     ]
    }
   ],
   "source": [
    "# for c\n",
    "print(np.max(c)) #maximum \n",
    "print(np.min(c)) #minimum\n",
    "print(np.mean(c)) #mean\n",
    "print(np.std(c)) #standard deviation"
   ]
  },
  {
   "cell_type": "markdown",
   "id": "da00fc87",
   "metadata": {},
   "source": [
    "##### b) Find the maximum, minimum, mean and standard deviation of all 2- dimensional array created in Q1 along the x-axis.\n"
   ]
  },
  {
   "cell_type": "code",
   "execution_count": 184,
   "id": "69e2d5d1",
   "metadata": {},
   "outputs": [
    {
     "name": "stdout",
     "output_type": "stream",
     "text": [
      "[5 9]\n",
      "[1 4]\n",
      "[3. 6.]\n",
      "[1.73205081 1.91485422]\n"
     ]
    }
   ],
   "source": [
    "#for b\n",
    "print(np.max(b,axis=1)) #maximum\n",
    "print(np.min(b,axis=1)) #minimum\n",
    "print(np.mean(b,axis=1)) #mean\n",
    "print(np.std(b,axis=1)) #standerd deviation"
   ]
  },
  {
   "cell_type": "code",
   "execution_count": 182,
   "id": "61ca34c0",
   "metadata": {},
   "outputs": [
    {
     "name": "stdout",
     "output_type": "stream",
     "text": [
      "[0. 0. 0. 0.]\n",
      "[0. 0. 0. 0.]\n",
      "[0. 0. 0. 0.]\n",
      "[0. 0. 0. 0.]\n"
     ]
    }
   ],
   "source": [
    "#for d\n",
    "print(np.max(d,axis=1)) #maximum\n",
    "print(np.min(d,axis=1)) #minimum\n",
    "print(np.mean(d,axis=1)) #mean\n",
    "print(np.std(d,axis=1)) #standerd deviation"
   ]
  },
  {
   "cell_type": "code",
   "execution_count": 185,
   "id": "e43255f3",
   "metadata": {},
   "outputs": [
    {
     "name": "stdout",
     "output_type": "stream",
     "text": [
      "[2.4 2.4 2.4]\n",
      "[2.4 2.4 2.4]\n",
      "[2.4 2.4 2.4]\n",
      "[0. 0. 0.]\n"
     ]
    }
   ],
   "source": [
    "#for e\n",
    "print(np.max(e,axis=1)) #maximum\n",
    "print(np.min(e,axis=1)) #minimum\n",
    "print(np.mean(e,axis=1)) #mean\n",
    "print(np.std(e,axis=1)) #standerd deviation"
   ]
  },
  {
   "cell_type": "code",
   "execution_count": 186,
   "id": "63c81bf3",
   "metadata": {},
   "outputs": [
    {
     "name": "stdout",
     "output_type": "stream",
     "text": [
      "[14 29]\n",
      "[ 2 17]\n",
      "[ 8. 23.]\n",
      "[4.24264069 4.24264069]\n"
     ]
    }
   ],
   "source": [
    "#for f\n",
    "print(np.max(f,axis=1)) #maximum\n",
    "print(np.min(f,axis=1)) #minimum\n",
    "print(np.mean(f,axis=1)) #mean\n",
    "print(np.std(f,axis=1)) #standerd deviation"
   ]
  },
  {
   "cell_type": "code",
   "execution_count": 187,
   "id": "f8e43c2c",
   "metadata": {},
   "outputs": [
    {
     "name": "stdout",
     "output_type": "stream",
     "text": [
      "[-1 -6]\n",
      "[ -3 -17]\n",
      "[ -2.  -11.4]\n",
      "[0.89442719 4.31740663]\n"
     ]
    }
   ],
   "source": [
    "#for g\n",
    "print(np.max(g,axis=1)) #maximum\n",
    "print(np.min(g,axis=1)) #minimum\n",
    "print(np.mean(g,axis=1)) #mean\n",
    "print(np.std(g,axis=1)) #standerd deviation"
   ]
  },
  {
   "cell_type": "code",
   "execution_count": 188,
   "id": "1c49acb4",
   "metadata": {},
   "outputs": [
    {
     "name": "stdout",
     "output_type": "stream",
     "text": [
      "[0.67024461 0.97086345 0.84840827 0.83429562]\n",
      "[0.01980625 0.36224319 0.22792051 0.02468703]\n",
      "[0.30874583 0.62925546 0.51514683 0.51204574]\n",
      "[0.24359042 0.23790903 0.23316343 0.27519959]\n"
     ]
    }
   ],
   "source": [
    "#for h\n",
    "print(np.max(h,axis=1)) #maximum\n",
    "print(np.min(h,axis=1)) #minimum\n",
    "print(np.mean(h,axis=1)) #mean\n",
    "print(np.std(h,axis=1)) #standerd deviation"
   ]
  },
  {
   "cell_type": "markdown",
   "id": "76ed82d0",
   "metadata": {},
   "source": [
    "##### c) Find the maximum, minimum, mean and standard deviation of all 2-dimensional array created in Q1 along the y-axis."
   ]
  },
  {
   "cell_type": "code",
   "execution_count": 189,
   "id": "6c17a694",
   "metadata": {},
   "outputs": [
    {
     "name": "stdout",
     "output_type": "stream",
     "text": [
      "[4 5 8 4 6 9]\n",
      "[1 2 1 4 5 5]\n",
      "[2.5 3.5 4.5 4.  5.5 7. ]\n",
      "[1.5 1.5 3.5 0.  0.5 2. ]\n"
     ]
    }
   ],
   "source": [
    "#for b\n",
    "print(np.max(b,axis=0)) #maximum\n",
    "print(np.min(b,axis=0)) #minimum\n",
    "print(np.mean(b,axis=0)) #mean\n",
    "print(np.std(b,axis=0)) #standerd deviation"
   ]
  },
  {
   "cell_type": "code",
   "execution_count": 190,
   "id": "b82428d5",
   "metadata": {},
   "outputs": [
    {
     "name": "stdout",
     "output_type": "stream",
     "text": [
      "[0. 0. 0. 0. 0.]\n",
      "[0. 0. 0. 0. 0.]\n",
      "[0. 0. 0. 0. 0.]\n",
      "[0. 0. 0. 0. 0.]\n"
     ]
    }
   ],
   "source": [
    "#for d\n",
    "print(np.max(d,axis=0)) #maximum\n",
    "print(np.min(d,axis=0)) #minimum\n",
    "print(np.mean(d,axis=0)) #mean\n",
    "print(np.std(d,axis=0)) #standerd deviation"
   ]
  },
  {
   "cell_type": "code",
   "execution_count": 191,
   "id": "7fb488be",
   "metadata": {},
   "outputs": [
    {
     "name": "stdout",
     "output_type": "stream",
     "text": [
      "[2.4 2.4 2.4 2.4]\n",
      "[2.4 2.4 2.4 2.4]\n",
      "[2.4 2.4 2.4 2.4]\n",
      "[0. 0. 0. 0.]\n"
     ]
    }
   ],
   "source": [
    "#for e\n",
    "print(np.max(e,axis=0)) #maximum\n",
    "print(np.min(e,axis=0)) #minimum\n",
    "print(np.mean(e,axis=0)) #mean\n",
    "print(np.std(e,axis=0)) #standerd deviation"
   ]
  },
  {
   "cell_type": "code",
   "execution_count": 192,
   "id": "1bd45ba7",
   "metadata": {},
   "outputs": [
    {
     "name": "stdout",
     "output_type": "stream",
     "text": [
      "[17 20 23 26 29]\n",
      "[ 2  5  8 11 14]\n",
      "[ 9.5 12.5 15.5 18.5 21.5]\n",
      "[7.5 7.5 7.5 7.5 7.5]\n"
     ]
    }
   ],
   "source": [
    "#for f\n",
    "print(np.max(f,axis=0)) #maximum\n",
    "print(np.min(f,axis=0)) #minimum\n",
    "print(np.mean(f,axis=0)) #mean\n",
    "print(np.std(f,axis=0)) #standerd deviation"
   ]
  },
  {
   "cell_type": "code",
   "execution_count": 193,
   "id": "2a2143fa",
   "metadata": {},
   "outputs": [
    {
     "name": "stdout",
     "output_type": "stream",
     "text": [
      "[-1 -1 -2 -3 -3]\n",
      "[ -6  -7 -12 -15 -17]\n",
      "[ -3.5  -4.   -7.   -9.  -10. ]\n",
      "[2.5 3.  5.  6.  7. ]\n"
     ]
    }
   ],
   "source": [
    "#for g\n",
    "print(np.max(g,axis=0)) #maximum\n",
    "print(np.min(g,axis=0)) #minimum\n",
    "print(np.mean(g,axis=0)) #mean\n",
    "print(np.std(g,axis=0)) #standerd deviation"
   ]
  },
  {
   "cell_type": "code",
   "execution_count": 194,
   "id": "9c9b177b",
   "metadata": {},
   "outputs": [
    {
     "name": "stdout",
     "output_type": "stream",
     "text": [
      "[0.45305903 0.97086345 0.83429562 0.82871962 0.67024461]\n",
      "[0.02468703 0.01980625 0.33845973 0.06215952 0.36224319]\n",
      "[0.28852353 0.56902891 0.58144507 0.4471737  0.57032111]\n",
      "[0.16494286 0.37369474 0.17550825 0.31284581 0.12343018]\n"
     ]
    }
   ],
   "source": [
    "#for h\n",
    "print(np.max(h,axis=0)) #maximum\n",
    "print(np.min(h,axis=0)) #minimum\n",
    "print(np.mean(h,axis=0)) #mean\n",
    "print(np.std(h,axis=0)) #standerd deviation"
   ]
  },
  {
   "cell_type": "code",
   "execution_count": null,
   "id": "d3ae5837",
   "metadata": {},
   "outputs": [],
   "source": []
  }
 ],
 "metadata": {
  "kernelspec": {
   "display_name": "Python 3 (ipykernel)",
   "language": "python",
   "name": "python3"
  },
  "language_info": {
   "codemirror_mode": {
    "name": "ipython",
    "version": 3
   },
   "file_extension": ".py",
   "mimetype": "text/x-python",
   "name": "python",
   "nbconvert_exporter": "python",
   "pygments_lexer": "ipython3",
   "version": "3.11.1"
  }
 },
 "nbformat": 4,
 "nbformat_minor": 5
}
