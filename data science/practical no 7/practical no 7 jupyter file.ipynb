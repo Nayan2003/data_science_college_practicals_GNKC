{
 "cells": [
  {
   "cell_type": "code",
   "execution_count": 1,
   "id": "8b20efa7",
   "metadata": {
    "scrolled": true
   },
   "outputs": [
    {
     "name": "stdout",
     "output_type": "stream",
     "text": [
      "nayan\n"
     ]
    }
   ],
   "source": [
    "print (\"nayan\")"
   ]
  },
  {
   "cell_type": "code",
   "execution_count": 1,
   "id": "80562e97",
   "metadata": {
    "scrolled": true
   },
   "outputs": [
    {
     "name": "stdout",
     "output_type": "stream",
     "text": [
      "nayan\n"
     ]
    }
   ],
   "source": [
    "print (\"nayan\")"
   ]
  },
  {
   "cell_type": "code",
   "execution_count": null,
   "id": "0f2443d1",
   "metadata": {},
   "outputs": [],
   "source": []
  },
  {
   "cell_type": "code",
   "execution_count": 1,
   "id": "86e3643d",
   "metadata": {
    "scrolled": true
   },
   "outputs": [
    {
     "name": "stdout",
     "output_type": "stream",
     "text": [
      "nayan\n"
     ]
    }
   ],
   "source": [
    "print (\"nayan\")"
   ]
  },
  {
   "cell_type": "code",
   "execution_count": null,
   "id": "a97bde96",
   "metadata": {},
   "outputs": [],
   "source": []
  }
 ],
 "metadata": {
  "kernelspec": {
   "display_name": "Python 3 (ipykernel)",
   "language": "python",
   "name": "python3"
  },
  "language_info": {
   "codemirror_mode": {
    "name": "ipython",
    "version": 3
   },
   "file_extension": ".py",
   "mimetype": "text/x-python",
   "name": "python",
   "nbconvert_exporter": "python",
   "pygments_lexer": "ipython3",
   "version": "3.11.1"
  }
 },
 "nbformat": 4,
 "nbformat_minor": 5
}
