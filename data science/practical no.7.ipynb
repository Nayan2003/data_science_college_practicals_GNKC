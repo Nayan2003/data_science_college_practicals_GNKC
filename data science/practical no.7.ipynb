{
 "cells": [
  {
   "cell_type": "markdown",
   "id": "7f5f9afc",
   "metadata": {},
   "source": [
    "## Practical no.07:- on File Handling\n",
    "## Name: Shrutika Bhosle\n",
    "### Roll no.403"
   ]
  },
  {
   "cell_type": "code",
   "execution_count": 1,
   "id": "6303cf6b",
   "metadata": {},
   "outputs": [],
   "source": [
    "import os"
   ]
  },
  {
   "cell_type": "markdown",
   "id": "4e848baa",
   "metadata": {},
   "source": [
    "### 1.\tCheck the current working directory."
   ]
  },
  {
   "cell_type": "code",
   "execution_count": 2,
   "id": "a622a220",
   "metadata": {},
   "outputs": [
    {
     "data": {
      "text/plain": [
       "'C:\\\\Users\\\\khuje\\\\Desktop\\\\data science'"
      ]
     },
     "execution_count": 2,
     "metadata": {},
     "output_type": "execute_result"
    }
   ],
   "source": [
    "os.getcwd()"
   ]
  },
  {
   "cell_type": "markdown",
   "id": "4cbd18c3",
   "metadata": {},
   "source": [
    "### 2.\tCreate a directory in C drive of your name."
   ]
  },
  {
   "cell_type": "code",
   "execution_count": 4,
   "id": "15f322fa",
   "metadata": {},
   "outputs": [],
   "source": [
    "os.mkdir(\"C:\\\\New\")"
   ]
  },
  {
   "cell_type": "markdown",
   "id": "9136d6a7",
   "metadata": {},
   "source": [
    "### 3.\tChange the current directory to the directory created by you."
   ]
  },
  {
   "cell_type": "code",
   "execution_count": 5,
   "id": "e3e19dad",
   "metadata": {},
   "outputs": [],
   "source": [
    "os.chdir(\"C:\\\\New\")"
   ]
  },
  {
   "cell_type": "markdown",
   "id": "57224b7c",
   "metadata": {},
   "source": [
    "### 4.\tRename the directory created by you."
   ]
  },
  {
   "cell_type": "code",
   "execution_count": 6,
   "id": "cea40250",
   "metadata": {},
   "outputs": [
    {
     "ename": "PermissionError",
     "evalue": "[WinError 32] The process cannot access the file because it is being used by another process: 'C:\\\\\\\\New' -> 'C:\\\\\\\\Prac7'",
     "output_type": "error",
     "traceback": [
      "\u001b[1;31m---------------------------------------------------------------------------\u001b[0m",
      "\u001b[1;31mPermissionError\u001b[0m                           Traceback (most recent call last)",
      "Cell \u001b[1;32mIn[6], line 3\u001b[0m\n\u001b[0;32m      1\u001b[0m source\u001b[38;5;241m=\u001b[39m\u001b[38;5;124mr\u001b[39m\u001b[38;5;124m'\u001b[39m\u001b[38;5;124mC:\u001b[39m\u001b[38;5;130;01m\\\\\u001b[39;00m\u001b[38;5;124mNew\u001b[39m\u001b[38;5;124m'\u001b[39m\n\u001b[0;32m      2\u001b[0m dest\u001b[38;5;241m=\u001b[39m\u001b[38;5;124mr\u001b[39m\u001b[38;5;124m'\u001b[39m\u001b[38;5;124mC:\u001b[39m\u001b[38;5;130;01m\\\\\u001b[39;00m\u001b[38;5;124mPrac7\u001b[39m\u001b[38;5;124m'\u001b[39m\n\u001b[1;32m----> 3\u001b[0m \u001b[43mos\u001b[49m\u001b[38;5;241;43m.\u001b[39;49m\u001b[43mrename\u001b[49m\u001b[43m(\u001b[49m\u001b[43msource\u001b[49m\u001b[43m,\u001b[49m\u001b[43mdest\u001b[49m\u001b[43m)\u001b[49m\n",
      "\u001b[1;31mPermissionError\u001b[0m: [WinError 32] The process cannot access the file because it is being used by another process: 'C:\\\\\\\\New' -> 'C:\\\\\\\\Prac7'"
     ]
    }
   ],
   "source": [
    "source=r'C:\\\\New'\n",
    "dest=r'C:\\\\Prac7'\n",
    "os.rename(source,dest)"
   ]
  },
  {
   "cell_type": "markdown",
   "id": "5c824b5f",
   "metadata": {},
   "source": [
    "### 5.\tChange the current working directory to the directory created by you."
   ]
  },
  {
   "cell_type": "code",
   "execution_count": 7,
   "id": "c2fc70ee",
   "metadata": {},
   "outputs": [],
   "source": [
    "## same as Q.3"
   ]
  },
  {
   "cell_type": "markdown",
   "id": "d8d9ed2d",
   "metadata": {},
   "source": [
    "### 6.\tCreate a file in your directory in writing mode."
   ]
  },
  {
   "cell_type": "code",
   "execution_count": 12,
   "id": "f7e7dc0c",
   "metadata": {},
   "outputs": [],
   "source": [
    "file1=open(\"C:\\\\New\\\\prac7.txt\",\"w\")"
   ]
  },
  {
   "cell_type": "markdown",
   "id": "0921d8c3",
   "metadata": {},
   "source": [
    "### 7.\tAdd any five sentences in that,"
   ]
  },
  {
   "cell_type": "code",
   "execution_count": 13,
   "id": "5ae0d5b0",
   "metadata": {},
   "outputs": [
    {
     "data": {
      "text/plain": [
       "13"
      ]
     },
     "execution_count": 13,
     "metadata": {},
     "output_type": "execute_result"
    }
   ],
   "source": [
    "file2=open(\"C:\\\\New\\\\prac7.txt\",\"a+\")\n",
    "file1.write('\\n hii i am nayan')\n",
    "file1.write('\\n from gurunanak khalsa college')\n",
    "file1.write('\\n i am ty student')\n",
    "file1.write('\\n tybsc mathematics')\n",
    "file1.write('\\n roll no.407')"
   ]
  },
  {
   "cell_type": "markdown",
   "id": "733ae2e5",
   "metadata": {},
   "source": [
    "### 8.\tRead first 10 characters from the file."
   ]
  },
  {
   "cell_type": "code",
   "execution_count": 14,
   "id": "2ee8cc82",
   "metadata": {},
   "outputs": [],
   "source": [
    "file2=open(\"C:\\\\New\\\\prac7.txt\",\"r\")"
   ]
  },
  {
   "cell_type": "code",
   "execution_count": 15,
   "id": "83654f76",
   "metadata": {},
   "outputs": [
    {
     "data": {
      "text/plain": [
       "'\\n hii i am'"
      ]
     },
     "execution_count": 15,
     "metadata": {},
     "output_type": "execute_result"
    }
   ],
   "source": [
    "file2.read(10)"
   ]
  },
  {
   "cell_type": "markdown",
   "id": "b66261a0",
   "metadata": {},
   "source": [
    "### 9.\tRead the file line by line."
   ]
  },
  {
   "cell_type": "code",
   "execution_count": 16,
   "id": "d85c337c",
   "metadata": {},
   "outputs": [
    {
     "data": {
      "text/plain": [
       "' nayan\\n'"
      ]
     },
     "execution_count": 16,
     "metadata": {},
     "output_type": "execute_result"
    }
   ],
   "source": [
    "file2.readline()"
   ]
  },
  {
   "cell_type": "markdown",
   "id": "e7a27443",
   "metadata": {},
   "source": [
    "### 10.\tRead full file."
   ]
  },
  {
   "cell_type": "code",
   "execution_count": 17,
   "id": "2386339b",
   "metadata": {},
   "outputs": [
    {
     "data": {
      "text/plain": [
       "' from gurunanak khalsa college\\n i am ty student\\n tybsc mathematics\\n roll no.407'"
      ]
     },
     "execution_count": 17,
     "metadata": {},
     "output_type": "execute_result"
    }
   ],
   "source": [
    "file2.read()"
   ]
  },
  {
   "cell_type": "markdown",
   "id": "1186f3eb",
   "metadata": {},
   "source": [
    "### 11.\tAppend any 5 sentences in that."
   ]
  },
  {
   "cell_type": "code",
   "execution_count": 18,
   "id": "356edbd9",
   "metadata": {},
   "outputs": [
    {
     "data": {
      "text/plain": [
       "21"
      ]
     },
     "execution_count": 18,
     "metadata": {},
     "output_type": "execute_result"
    }
   ],
   "source": [
    "file3=open(\"C:\\\\New\\\\prac7.txt\",\"a\")\n",
    "file3.write('My hair hurts.')\n",
    "file3.write('I’m going to get my toe nail pierced this weekend.')\n",
    "file3.write('Chocolate milk comes from brown cows you know.')\n",
    "file3.write('Random Word Generator')\n",
    "file3.write('Random Noun Generator')"
   ]
  },
  {
   "cell_type": "markdown",
   "id": "c3669509",
   "metadata": {},
   "source": [
    "### 12.\tClose the file created by you."
   ]
  },
  {
   "cell_type": "code",
   "execution_count": 19,
   "id": "24e6bdfa",
   "metadata": {},
   "outputs": [],
   "source": [
    "file3.close()\n",
    "file2.close()\n",
    "file1.close()"
   ]
  },
  {
   "cell_type": "markdown",
   "id": "d5a42d37",
   "metadata": {},
   "source": [
    "### 13.\tDelete the file created by you."
   ]
  },
  {
   "cell_type": "code",
   "execution_count": 20,
   "id": "3ca5939a",
   "metadata": {},
   "outputs": [],
   "source": [
    "os.remove(\"C:\\\\New\\\\prac7.txt\")"
   ]
  },
  {
   "cell_type": "markdown",
   "id": "1ee1a43b",
   "metadata": {},
   "source": [
    "### 14.\tDelete the directory created by you."
   ]
  },
  {
   "cell_type": "code",
   "execution_count": 26,
   "id": "9893781f",
   "metadata": {},
   "outputs": [],
   "source": [
    "os.chdir(\"C:\\\\Users\\\\khuje\\\\Desktop\\\\data science\")\n",
    "## we first get back from working directry cause if we want delete directory which we work on same directory then it will gives us error we cant delete..\n",
    "os.rmdir(\"C:\\\\New\")\n",
    "\n"
   ]
  },
  {
   "cell_type": "code",
   "execution_count": null,
   "id": "bfd97e04",
   "metadata": {},
   "outputs": [],
   "source": []
  }
 ],
 "metadata": {
  "kernelspec": {
   "display_name": "Python 3 (ipykernel)",
   "language": "python",
   "name": "python3"
  },
  "language_info": {
   "codemirror_mode": {
    "name": "ipython",
    "version": 3
   },
   "file_extension": ".py",
   "mimetype": "text/x-python",
   "name": "python",
   "nbconvert_exporter": "python",
   "pygments_lexer": "ipython3",
   "version": "3.11.1"
  }
 },
 "nbformat": 4,
 "nbformat_minor": 5
}
